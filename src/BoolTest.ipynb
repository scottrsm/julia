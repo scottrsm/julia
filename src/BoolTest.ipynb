{
 "cells": [
  {
   "cell_type": "code",
   "execution_count": null,
   "id": "f2a13f18-fb5b-4483-bfbc-7b7221a149bd",
   "metadata": {},
   "outputs": [],
   "source": [
    "using Revise"
   ]
  },
  {
   "cell_type": "code",
   "execution_count": 43,
   "id": "9fa098b2-2258-4a69-80b6-54af2ad33dbb",
   "metadata": {},
   "outputs": [],
   "source": [
    "using Boolean"
   ]
  },
  {
   "cell_type": "code",
   "execution_count": 2,
   "id": "7a817ffe-a73e-431e-8595-048610354442",
   "metadata": {},
   "outputs": [
    {
     "name": "stdout",
     "output_type": "stream",
     "text": [
      "x2 * (x3 * (x1 + x2))\n"
     ]
    },
    {
     "data": {
      "text/plain": [
       "Formula    = z1 + z2\n",
       "Variable   = z\n",
       "Size       = 3\n",
       "Bit vector = Bool[0, 1, 1, 1, 0, 1, 1, 1]\n"
      ]
     },
     "execution_count": 2,
     "metadata": {},
     "output_type": "execute_result"
    }
   ],
   "source": [
    "init_logic(3)\n",
    "println(simplifyLogic(Meta.parse(\"((x1 + x2) * x3) * (x1 * 0 + x2 * 1)\")))\n",
    "create_bool_rep(\"z1 + z2\")"
   ]
  },
  {
   "cell_type": "code",
   "execution_count": 3,
   "id": "31e62bd3-c168-4138-8bb1-9d46c04bd568",
   "metadata": {},
   "outputs": [
    {
     "data": {
      "text/plain": [
       ":(x1 * ~x1)"
      ]
     },
     "execution_count": 3,
     "metadata": {},
     "output_type": "execute_result"
    }
   ],
   "source": [
    "simplifyLogic(Meta.parse(\"x1 * (1 ⊕ x1)\"))"
   ]
  },
  {
   "cell_type": "code",
   "execution_count": 4,
   "id": "2b87a9b1-9ac5-4354-be4b-adde794efe0c",
   "metadata": {},
   "outputs": [
    {
     "data": {
      "text/plain": [
       "8×3 BitMatrix:\n",
       " 0  0  0\n",
       " 1  0  0\n",
       " 0  1  0\n",
       " 1  1  0\n",
       " 0  0  1\n",
       " 1  0  1\n",
       " 0  1  1\n",
       " 1  1  1"
      ]
     },
     "execution_count": 4,
     "metadata": {},
     "output_type": "execute_result"
    }
   ],
   "source": [
    "BitArray([((i-1) >> (j-1)) & 1  for i in 1:2^3, j in 1:3])"
   ]
  },
  {
   "cell_type": "code",
   "execution_count": 5,
   "id": "ea86a076-d021-44aa-bb76-18b27dc271ed",
   "metadata": {},
   "outputs": [
    {
     "data": {
      "text/plain": [
       ":(z3 ⊕ (z1 ⊕ z3))"
      ]
     },
     "execution_count": 5,
     "metadata": {},
     "output_type": "execute_result"
    }
   ],
   "source": [
    "simplifyLogic(Meta.parse(\"(z1 ⊕ z3) ⊕ (0 ⊕ z3)\"))"
   ]
  },
  {
   "cell_type": "code",
   "execution_count": 6,
   "id": "d7412775-f195-4486-8269-8dee059d4070",
   "metadata": {},
   "outputs": [
    {
     "data": {
      "text/plain": [
       ":(x2 * (x3 * (x1 + x2)))"
      ]
     },
     "execution_count": 6,
     "metadata": {},
     "output_type": "execute_result"
    }
   ],
   "source": [
    "simplifyLogic(Meta.parse(\"((x1 + x2) * x3) * (x1 * 0 + x2 * 1)\"))"
   ]
  },
  {
   "cell_type": "code",
   "execution_count": 7,
   "id": "c2112c54-3233-4800-8404-87c021ef2bdf",
   "metadata": {},
   "outputs": [
    {
     "data": {
      "text/plain": [
       ":x1"
      ]
     },
     "execution_count": 7,
     "metadata": {},
     "output_type": "execute_result"
    }
   ],
   "source": [
    "simplifyLogic(Meta.parse(\"0 + x1\"))"
   ]
  },
  {
   "cell_type": "code",
   "execution_count": 8,
   "id": "fd6bf430-9ce0-49bd-a2dc-f76eff06e3b5",
   "metadata": {},
   "outputs": [
    {
     "data": {
      "text/plain": [
       ":x1"
      ]
     },
     "execution_count": 8,
     "metadata": {},
     "output_type": "execute_result"
    }
   ],
   "source": [
    "simplifyLogic(Meta.parse(\"x1 * (x1 + 0)\")) "
   ]
  },
  {
   "cell_type": "code",
   "execution_count": 16,
   "id": "bedede2c-153b-4225-85f4-16496ba71d9c",
   "metadata": {},
   "outputs": [
    {
     "name": "stdout",
     "output_type": "stream",
     "text": [
      "\n",
      "Examining the 'f2' formula:\n",
      "Formula    = (z1 * z3) ⊕ (z2 * z3)\n",
      "Variable   = z\n",
      "Size       = 3\n",
      "Bit vector = Bool[0, 0, 0, 0, 0, 1, 1, 0]\n",
      "\n",
      "Number of non-zero bits: 2\n",
      "First 5 (at most 5) variable values that lead to a 'true' value are:\n",
      "z1, z2, z3):\n",
      "(1, 0, 1)\n",
      "(0, 1, 1)\n",
      "\n",
      "Examining the 'zero' formula:\n",
      "Formula    = ((x1 + x2) * x3) ⊕ (x1 * x3 + x2 * x3)\n",
      "Variable   = x\n",
      "Size       = 3\n",
      "Bit vector = Bool[0, 0, 0, 0, 0, 0, 0, 0]\n",
      "\n",
      "Number of non-zero bits: 0\n",
      "First 5 (at most 5) variable values that lead to a 'true' value are:\n"
     ]
    },
    {
     "data": {
      "text/plain": [
       "0"
      ]
     },
     "execution_count": 16,
     "metadata": {},
     "output_type": "execute_result"
    }
   ],
   "source": [
    "init_logic(3)\n",
    "\n",
    "f1 = \"x1 + x2 * x3\"\n",
    "f2 = \"(z1 * z3) ⊕ (z2 * z3)\"\n",
    "zero = \"((x1 + x2) * x3) ⊕ (x1 * x3 + x2 * x3)\"\n",
    "\n",
    "println(\"\\nExamining the 'f2' formula:\")\n",
    "f2e = create_bool_rep(f2)\n",
    "println(f2e)\n",
    "print(\"Number of non-zero bits: \")\n",
    "println(logicCount(f2e))\n",
    "println(\"First 5 (at most 5) variable values that lead to a 'true' value are:\")\n",
    "println(\"$(f2e.var)1, $(f2e.var)2, $(f2e.var)3):\")\n",
    "res = nonZero(f2e, head=5)\n",
    "print(res)\n",
    "\n",
    "println(\"\\nExamining the 'zero' formula:\")\n",
    "zeroe = create_bool_rep(zero)\n",
    "println(zeroe)\n",
    "print(\"Number of non-zero bits: \")\n",
    "println(logicCount(zeroe))\n",
    "println(\"First 5 (at most 5) variable values that lead to a 'true' value are:\")\n",
    "res = nonZero(zeroe, head=5)\n",
    "typeof(res)\n",
    "res\n",
    "logicCount(zeroe)"
   ]
  },
  {
   "cell_type": "code",
   "execution_count": 10,
   "id": "470f1113-77b0-4d00-a918-971e0b7421c7",
   "metadata": {},
   "outputs": [
    {
     "data": {
      "text/plain": [
       "Formula    = (z1 + z2) * z3\n",
       "Variable   = z\n",
       "Size       = 3\n",
       "Bit vector = Bool[0, 0, 0, 0, 0, 1, 1, 1]\n"
      ]
     },
     "execution_count": 10,
     "metadata": {},
     "output_type": "execute_result"
    }
   ],
   "source": [
    "create_bool_rep(\"(z1 + z2) * z3\")"
   ]
  },
  {
   "cell_type": "code",
   "execution_count": 11,
   "id": "2dc08967-3bbe-4bad-8d59-3bafd3f49d6c",
   "metadata": {},
   "outputs": [
    {
     "data": {
      "text/plain": [
       "true"
      ]
     },
     "execution_count": 11,
     "metadata": {},
     "output_type": "execute_result"
    }
   ],
   "source": [
    "isEquiv(f1, f1)"
   ]
  },
  {
   "cell_type": "code",
   "execution_count": 12,
   "id": "b8614e0f-ca96-49af-b5af-d44b42a55e57",
   "metadata": {},
   "outputs": [
    {
     "data": {
      "text/plain": [
       ":(((x1 + x2) * x3) * (x1 * 0 + x2 * 1))"
      ]
     },
     "execution_count": 12,
     "metadata": {},
     "output_type": "execute_result"
    }
   ],
   "source": [
    "Meta.parse(\"((x1 + x2) * x3) * (x1 * 0 + x2 * 1)\")"
   ]
  },
  {
   "cell_type": "code",
   "execution_count": 13,
   "id": "c6a97024-a566-4787-a117-2f5d4d648a3b",
   "metadata": {},
   "outputs": [
    {
     "data": {
      "text/plain": [
       ":(x2 * (x3 * (x1 + x2)))"
      ]
     },
     "execution_count": 13,
     "metadata": {},
     "output_type": "execute_result"
    }
   ],
   "source": [
    "simplifyLogic(Meta.parse(\"((x1 + x2) * x3) * (x1 * 0 + x2 * 1)\"))"
   ]
  },
  {
   "cell_type": "code",
   "execution_count": 63,
   "id": "9b7bb24c-6e9e-40c4-af34-1f2069c7139f",
   "metadata": {},
   "outputs": [],
   "source": [
    "using Boolean"
   ]
  },
  {
   "cell_type": "code",
   "execution_count": 75,
   "id": "9ab3d61a-8fdc-4523-b47c-2ab60c57aa67",
   "metadata": {},
   "outputs": [
    {
     "data": {
      "text/plain": [
       ":(x2 * x3)"
      ]
     },
     "execution_count": 75,
     "metadata": {},
     "output_type": "execute_result"
    }
   ],
   "source": [
    "simplifyLogic(Meta.parse(\"((1 + x2) * x3) * x2\"))"
   ]
  },
  {
   "cell_type": "code",
   "execution_count": 66,
   "id": "89b17ef3-cfd4-41e5-926b-1a46d3943d73",
   "metadata": {},
   "outputs": [
    {
     "name": "stdout",
     "output_type": "stream",
     "text": [
      "\tx = 00000000\n",
      "\t\tx[1] = 0\n",
      "\t\t((0 + x2) * x3) * x2\n",
      "\t\tx2 * (x2 * x3))\n",
      "\t\tx[2] = 0\n",
      "\t\t((x1 + 0) * x3) * 0\n",
      "\t\t0)\n",
      "\t\tx[3] = 0\n",
      "\t\t((x1 + x2) * 0) * x2\n",
      "\t\t0)\n",
      "\tx = 10000000\n",
      "\t\tx[1] = 1\n",
      "\t\t((1 + x2) * x3) * x2\n",
      "\t\tx2 * x3)\n",
      "\t\tx[2] = 0\n",
      "\t\t((x1 + 0) * x3) * 0\n",
      "\t\t0)\n",
      "\t\tx[3] = 0\n",
      "\t\t((x1 + x2) * 0) * x2\n",
      "\t\t0)\n",
      "\tx = 01000000\n",
      "\t\tx[1] = 0\n",
      "\t\t((0 + x2) * x3) * x2\n",
      "\t\tx2 * (x2 * x3))\n",
      "\t\tx[2] = 1\n",
      "\t\t((x1 + 1) * x3) * 1\n",
      "\t\tx3)\n",
      "\t\tx[3] = 0\n",
      "\t\t((x1 + x2) * 0) * x2\n",
      "\t\t0)\n",
      "\tx = 11000000\n",
      "\t\tx[1] = 1\n",
      "\t\t((1 + x2) * x3) * x2\n",
      "\t\tx2 * x3)\n",
      "\t\tx[2] = 1\n",
      "\t\t((x1 + 1) * x3) * 1\n",
      "\t\tx3)\n",
      "\t\tx[3] = 0\n",
      "\t\t((x1 + x2) * 0) * x2\n",
      "\t\t0)\n",
      "\tx = 00100000\n",
      "\t\tx[1] = 0\n",
      "\t\t((0 + x2) * x3) * x2\n",
      "\t\tx2 * (x2 * x3))\n",
      "\t\tx[2] = 0\n",
      "\t\t((x1 + 0) * x3) * 0\n",
      "\t\t0)\n",
      "\t\tx[3] = 1\n",
      "\t\t((x1 + x2) * 1) * x2\n",
      "\t\tx2 * (x1 + x2))\n",
      "\tx = 10100000\n",
      "\t\tx[1] = 1\n",
      "\t\t((1 + x2) * x3) * x2\n",
      "\t\tx2 * x3)\n",
      "\t\tx[2] = 0\n",
      "\t\t((x1 + 0) * x3) * 0\n",
      "\t\t0)\n",
      "\t\tx[3] = 1\n",
      "\t\t((x1 + x2) * 1) * x2\n",
      "\t\tx2 * (x1 + x2))\n",
      "\tx = 01100000\n",
      "\t\tx[1] = 0\n",
      "\t\t((0 + x2) * x3) * x2\n",
      "\t\tx2 * (x2 * x3))\n",
      "\t\tx[2] = 1\n",
      "\t\t((x1 + 1) * x3) * 1\n",
      "\t\tx3)\n",
      "\t\tx[3] = 1\n",
      "\t\t((x1 + x2) * 1) * x2\n",
      "\t\tx2 * (x1 + x2))\n",
      "\tx = 11100000\n",
      "\t\tx[1] = 1\n",
      "\t\t((1 + x2) * x3) * x2\n",
      "\t\tx2 * x3)\n",
      "\t\tx[2] = 1\n",
      "\t\t((x1 + 1) * x3) * 1\n",
      "\t\tx3)\n",
      "\t\tx[3] = 1\n",
      "\t\t((x1 + x2) * 1) * x2\n",
      "\t\tx2 * (x1 + x2))\n"
     ]
    }
   ],
   "source": [
    "form=\"((x1 + x2) * x3) * (x1 * 0 + x2 * 1)\"\n",
    "form=\"((x1 + x2) * x3) * x2\"\n",
    "#form=\"x2 * (x2 * x3)\"\n",
    "x = Vector{Int64}(undef, 5)\n",
    "N=3\n",
    "for i in 0:(2^N-1)\n",
    "    x = reverse(bitstring(UInt8(i)))\n",
    "    println(\"\\tx = $x\")\n",
    "    for j in 1:N\n",
    "        println(\"\\t\\tx[$j] = $(x[j])\")\n",
    "        frm = replace(form, \"x$j\" => x[j])\n",
    "        println(\"\\t\\t$frm\")\n",
    "        println(\"\\t\\t$(simplifyLogic(Meta.parse(frm))))\")\n",
    "    end\n",
    "end"
   ]
  },
  {
   "cell_type": "code",
   "execution_count": null,
   "id": "cbcdfd20-00c2-40f1-866d-4712ddb35018",
   "metadata": {},
   "outputs": [],
   "source": []
  }
 ],
 "metadata": {
  "kernelspec": {
   "display_name": "Julia 1.10.0",
   "language": "julia",
   "name": "julia-1.10"
  },
  "language_info": {
   "file_extension": ".jl",
   "mimetype": "application/julia",
   "name": "julia",
   "version": "1.10.2"
  }
 },
 "nbformat": 4,
 "nbformat_minor": 5
}
