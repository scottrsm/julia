{
 "cells": [
  {
   "cell_type": "code",
   "execution_count": null,
   "id": "9f4e166a-48bf-418d-9f39-1f324b3ae304",
   "metadata": {},
   "outputs": [],
   "source": [
    "using Boolean"
   ]
  },
  {
   "cell_type": "code",
   "execution_count": null,
   "id": "7a817ffe-a73e-431e-8595-048610354442",
   "metadata": {},
   "outputs": [],
   "source": [
    "init_logic(3)\n",
    "println(simplifyLogic(Meta.parse(\"((x1 + x2) * x3) * (x1 * 0 + x2 * 1)\")))\n",
    "create_bool_rep(\"z1 + z2\")"
   ]
  },
  {
   "cell_type": "code",
   "execution_count": null,
   "id": "31e62bd3-c168-4138-8bb1-9d46c04bd568",
   "metadata": {},
   "outputs": [],
   "source": [
    "simplifyLogic(Meta.parse(\"x1 * (1 ⊕ x1)\"))"
   ]
  },
  {
   "cell_type": "code",
   "execution_count": null,
   "id": "2b87a9b1-9ac5-4354-be4b-adde794efe0c",
   "metadata": {},
   "outputs": [],
   "source": [
    "BitArray([((i-1) >> (j-1)) & 1  for i in 1:2^3, j in 1:3])"
   ]
  },
  {
   "cell_type": "code",
   "execution_count": null,
   "id": "ea86a076-d021-44aa-bb76-18b27dc271ed",
   "metadata": {},
   "outputs": [],
   "source": [
    "simplifyLogic(Meta.parse(\"(z1 ⊕ z3) ⊕ (0 ⊕ z3)\"))"
   ]
  },
  {
   "cell_type": "code",
   "execution_count": null,
   "id": "d7412775-f195-4486-8269-8dee059d4070",
   "metadata": {},
   "outputs": [],
   "source": [
    "simplifyLogic(Meta.parse(\"((x1 + x2) * x3) * (x1 * 0 + x2 * 1)\"))"
   ]
  },
  {
   "cell_type": "code",
   "execution_count": null,
   "id": "c2112c54-3233-4800-8404-87c021ef2bdf",
   "metadata": {},
   "outputs": [],
   "source": [
    "simplifyLogic(Meta.parse(\"0 + x1\"))"
   ]
  },
  {
   "cell_type": "code",
   "execution_count": null,
   "id": "fd6bf430-9ce0-49bd-a2dc-f76eff06e3b5",
   "metadata": {},
   "outputs": [],
   "source": [
    "simplifyLogic(Meta.parse(\"x1 * (x1 + 0)\")) "
   ]
  },
  {
   "cell_type": "code",
   "execution_count": null,
   "id": "bedede2c-153b-4225-85f4-16496ba71d9c",
   "metadata": {},
   "outputs": [],
   "source": [
    "init_logic(3)\n",
    "\n",
    "f1 = \"x1 + x2 * x3\"\n",
    "f2 = \"(z1 * z3) ⊕ (z2 * z3)\"\n",
    "zero = \"((x1 + x2) * x3) ⊕ (x1 * x3 + x2 * x3)\"\n",
    "\n",
    "println(\"\\nExamining the 'f2' formula:\")\n",
    "f2e = create_bool_rep(f2)\n",
    "println(f2e)\n",
    "print(\"Number of non-zero bits: \")\n",
    "println(logicCount(f2e))\n",
    "println(\"First 5 (at most 5) variable values that lead to a 'true' value are:\")\n",
    "println(f2e.var, \":\")\n",
    "res = nonZero(f2e, head=5)\n",
    "print(res)\n",
    "println(nonZero(f2e, head=5))\n",
    "\n",
    "println(\"\\nExamining the 'zero' formula:\")\n",
    "zeroe = create_bool_rep(zero)\n",
    "println(zeroe)\n",
    "print(\"Number of non-zero bits: \")\n",
    "println(logicCount(zeroe))\n",
    "println(\"First 5 (at most 5) variable values that lead to a 'true' value are:\")\n",
    "res = nonZero(zeroe, head=5)\n",
    "typeof(res)\n",
    "res\n",
    "logicCount(zeroe)"
   ]
  },
  {
   "cell_type": "code",
   "execution_count": null,
   "id": "470f1113-77b0-4d00-a918-971e0b7421c7",
   "metadata": {},
   "outputs": [],
   "source": [
    "create_bool_rep(\"(z1 + z2) * z3\")"
   ]
  },
  {
   "cell_type": "code",
   "execution_count": null,
   "id": "3a78834b-c99b-4cd2-945f-63e956990892",
   "metadata": {},
   "outputs": [],
   "source": [
    "isEquiv(f1, f1)"
   ]
  }
 ],
 "metadata": {
  "kernelspec": {
   "display_name": "Julia 1.10.0",
   "language": "julia",
   "name": "julia-1.10"
  },
  "language_info": {
   "file_extension": ".jl",
   "mimetype": "application/julia",
   "name": "julia",
   "version": "1.10.0"
  }
 },
 "nbformat": 4,
 "nbformat_minor": 5
}
