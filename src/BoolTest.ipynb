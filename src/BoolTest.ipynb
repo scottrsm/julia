{
 "cells": [
  {
   "cell_type": "code",
   "execution_count": null,
   "id": "f2a13f18-fb5b-4483-bfbc-7b7221a149bd",
   "metadata": {},
   "outputs": [],
   "source": [
    "using Revise"
   ]
  },
  {
   "cell_type": "code",
   "execution_count": null,
   "id": "9fa098b2-2258-4a69-80b6-54af2ad33dbb",
   "metadata": {},
   "outputs": [],
   "source": [
    "using Boolean"
   ]
  },
  {
   "cell_type": "code",
   "execution_count": null,
   "id": "7a817ffe-a73e-431e-8595-048610354442",
   "metadata": {},
   "outputs": [],
   "source": [
    "init_logic(3)\n",
    "println(simplifyLogic(Meta.parse(\"((x1 + x2) * x3) * (x1 * 0 + x2 * 1)\")))\n",
    "create_bool_rep(\"z1 + z2\")"
   ]
  },
  {
   "cell_type": "code",
   "execution_count": null,
   "id": "31e62bd3-c168-4138-8bb1-9d46c04bd568",
   "metadata": {},
   "outputs": [],
   "source": [
    "simplifyLogic(Meta.parse(\"x1 * (1 ⊕ x1)\"))"
   ]
  },
  {
   "cell_type": "code",
   "execution_count": null,
   "id": "2b87a9b1-9ac5-4354-be4b-adde794efe0c",
   "metadata": {},
   "outputs": [],
   "source": [
    "BitArray([((i-1) >> (j-1)) & 1  for i in 1:2^3, j in 1:3])"
   ]
  },
  {
   "cell_type": "code",
   "execution_count": null,
   "id": "ea86a076-d021-44aa-bb76-18b27dc271ed",
   "metadata": {},
   "outputs": [],
   "source": [
    "simplifyLogic(Meta.parse(\"(z1 ⊕ z3) ⊕ (0 ⊕ z3)\"))"
   ]
  },
  {
   "cell_type": "code",
   "execution_count": null,
   "id": "d7412775-f195-4486-8269-8dee059d4070",
   "metadata": {},
   "outputs": [],
   "source": [
    "simplifyLogic(Meta.parse(\"((x1 + x2) * x3) * (x1 * 0 + x2 * 1)\"))"
   ]
  },
  {
   "cell_type": "code",
   "execution_count": null,
   "id": "c2112c54-3233-4800-8404-87c021ef2bdf",
   "metadata": {},
   "outputs": [],
   "source": [
    "simplifyLogic(Meta.parse(\"0 + x1\"))"
   ]
  },
  {
   "cell_type": "code",
   "execution_count": null,
   "id": "fd6bf430-9ce0-49bd-a2dc-f76eff06e3b5",
   "metadata": {},
   "outputs": [],
   "source": [
    "simplifyLogic(Meta.parse(\"x1 * (x1 + 0)\")) "
   ]
  },
  {
   "cell_type": "code",
   "execution_count": null,
   "id": "bedede2c-153b-4225-85f4-16496ba71d9c",
   "metadata": {},
   "outputs": [],
   "source": [
    "init_logic(3)\n",
    "\n",
    "f1 = \"x1 + x2 * x3\"\n",
    "f2 = \"(z1 * z3) ⊕ (z2 * z3)\"\n",
    "zero = \"((x1 + x2) * x3) ⊕ (x1 * x3 + x2 * x3)\"\n",
    "\n",
    "println(\"\\nExamining the 'f2' formula:\")\n",
    "f2e = create_bool_rep(f2)\n",
    "println(f2e)\n",
    "print(\"Number of non-zero bits: \")\n",
    "println(logicCount(f2e))\n",
    "println(\"First 5 (at most 5) variable values that lead to a 'true' value are:\")\n",
    "println(\"$(f2e.var)1, $(f2e.var)2, $(f2e.var)3):\")\n",
    "res = nonZero(f2e, head=5)\n",
    "print(res)\n",
    "\n",
    "println(\"\\nExamining the 'zero' formula:\")\n",
    "zeroe = create_bool_rep(zero)\n",
    "println(zeroe)\n",
    "print(\"Number of non-zero bits: \")\n",
    "println(logicCount(zeroe))\n",
    "println(\"First 5 (at most 5) variable values that lead to a 'true' value are:\")\n",
    "res = nonZero(zeroe, head=5)\n",
    "typeof(res)\n",
    "res\n",
    "logicCount(zeroe)"
   ]
  },
  {
   "cell_type": "code",
   "execution_count": null,
   "id": "470f1113-77b0-4d00-a918-971e0b7421c7",
   "metadata": {},
   "outputs": [],
   "source": [
    "create_bool_rep(\"(z1 + z2) * z3\")"
   ]
  },
  {
   "cell_type": "code",
   "execution_count": null,
   "id": "2dc08967-3bbe-4bad-8d59-3bafd3f49d6c",
   "metadata": {},
   "outputs": [],
   "source": [
    "isEquiv(f1, f1)"
   ]
  },
  {
   "cell_type": "code",
   "execution_count": null,
   "id": "b8614e0f-ca96-49af-b5af-d44b42a55e57",
   "metadata": {},
   "outputs": [],
   "source": [
    "Meta.parse(\"((x1 + x2) * x3) * (x1 * 0 + x2 * 1)\")"
   ]
  },
  {
   "cell_type": "code",
   "execution_count": null,
   "id": "c6a97024-a566-4787-a117-2f5d4d648a3b",
   "metadata": {},
   "outputs": [],
   "source": [
    "simplifyLogic(Meta.parse(\"((x1 + x2) * x3) * (x1 * 0 + x2 * 1)\"))"
   ]
  },
  {
   "cell_type": "code",
   "execution_count": null,
   "id": "9ab3d61a-8fdc-4523-b47c-2ab60c57aa67",
   "metadata": {},
   "outputs": [],
   "source": [
    "frm=\"((1 + x2) * x3) * x2\"\n",
    "ee = simplifyLogic(Meta.parse(frm))\n",
    "string(ee)"
   ]
  },
  {
   "cell_type": "code",
   "execution_count": null,
   "id": "dd62a3b1-dfb4-46e3-8453-db4be74bc6b7",
   "metadata": {},
   "outputs": [],
   "source": [
    "    x = reverse(bitstring(UInt8(11)))"
   ]
  },
  {
   "cell_type": "code",
   "execution_count": null,
   "id": "c7dfa966-abc2-42eb-aa92-73e796a0d946",
   "metadata": {},
   "outputs": [],
   "source": [
    "simplifyLogic(Meta.parse(\"x1 ⊕ 0 ⊕ x1 ⊕ 1 ⊕ x1\"))"
   ]
  },
  {
   "cell_type": "markdown",
   "id": "a54b89bf-0ea8-49cc-8446-b331898e5d20",
   "metadata": {},
   "source": [
    "### Operator Precedence: XOR lower than \"*\" (Both left associative)"
   ]
  },
  {
   "cell_type": "code",
   "execution_count": null,
   "id": "91a7144d-5948-4bee-b9f1-469f888f0b18",
   "metadata": {},
   "outputs": [],
   "source": [
    "simplifyLogic(Meta.parse(\"1 ⊕ 1 * 0\"))"
   ]
  },
  {
   "cell_type": "code",
   "execution_count": null,
   "id": "5704181a-d7a9-4f8f-bc99-c7912530c60b",
   "metadata": {},
   "outputs": [],
   "source": [
    "simplifyLogic(Meta.parse(\"(1 ⊕ 1) * 0\"))"
   ]
  },
  {
   "cell_type": "markdown",
   "id": "ed3a3d27-2863-4c01-9df1-5b39954f7790",
   "metadata": {},
   "source": [
    "### Operator Precedence: XOR same as \"+\" (Both left associative)"
   ]
  },
  {
   "cell_type": "markdown",
   "id": "fc0eed5e-a0fe-40cd-b68f-e42424fb46b9",
   "metadata": {},
   "source": [
    "#### Is \"+\" higher than XOR: NO"
   ]
  },
  {
   "cell_type": "code",
   "execution_count": null,
   "id": "0ff579ae-0a3d-44e3-8eb8-ac887d76e287",
   "metadata": {},
   "outputs": [],
   "source": [
    "simplifyLogic(Meta.parse(\"1 ⊕ 1 + 1\"))"
   ]
  },
  {
   "cell_type": "code",
   "execution_count": null,
   "id": "7d7dae43-4984-4eae-b1b2-7a61f6a25ca9",
   "metadata": {},
   "outputs": [],
   "source": [
    "simplifyLogic(Meta.parse(\"1 ⊕ (1 + 1)\"))"
   ]
  },
  {
   "cell_type": "markdown",
   "id": "f95d19a6-ba7b-446a-a873-42442b2ac1a1",
   "metadata": {},
   "source": [
    "#### Is XOR higher than \"+\": NO"
   ]
  },
  {
   "cell_type": "code",
   "execution_count": null,
   "id": "6b127376-fc19-4b54-9f79-3ab129580a1c",
   "metadata": {},
   "outputs": [],
   "source": [
    "simplifyLogic(Meta.parse(\"1 + 1 ⊕ 1\"))"
   ]
  },
  {
   "cell_type": "code",
   "execution_count": null,
   "id": "ae8122ce-ab91-401a-a90a-fc196b99ea14",
   "metadata": {},
   "outputs": [],
   "source": [
    "simplifyLogic(Meta.parse(\"1 + (1 ⊕ 1)\"))"
   ]
  },
  {
   "cell_type": "code",
   "execution_count": null,
   "id": "ac4c2ed9-f65d-4405-af1b-b4cc49a56911",
   "metadata": {},
   "outputs": [],
   "source": []
  }
 ],
 "metadata": {
  "kernelspec": {
   "display_name": "Julia 1.10.0",
   "language": "julia",
   "name": "julia-1.10"
  },
  "language_info": {
   "file_extension": ".jl",
   "mimetype": "application/julia",
   "name": "julia",
   "version": "1.10.2"
  }
 },
 "nbformat": 4,
 "nbformat_minor": 5
}
