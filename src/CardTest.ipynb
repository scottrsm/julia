{
 "cells": [
  {
   "cell_type": "code",
   "execution_count": null,
   "id": "211b1988-aa5f-4640-b1da-c5082f3eba9b",
   "metadata": {
    "tags": []
   },
   "outputs": [],
   "source": [
    "module CardsTest\n",
    "\n",
    "using Random\n",
    "using Test\n",
    "\n",
    "using Cards\n",
    "\n",
    "\n",
    "@testset \"Test for Ambiguities in the Module\" begin\n",
    "    @test length(detect_ambiguities(Cards)) == 0\n",
    "end\n",
    "\n",
    "    \n",
    "@testset \"Testing poker hand comparisons of hands 1-6...\" begin\n",
    "    Random.seed!(22)\n",
    "    d = Deck()\n",
    "    shuffle_deck!(d)\n",
    "\n",
    "    ## Manually construct 6 hands...\n",
    "    h1 = PokerHand([Card(Four, ♥ ), Card(Jack, ♦ ), Card(Six, ♣ ), Card(King, ♦ ), Card(Six, ♠ )])\n",
    "    h2 = PokerHand([Card(Two, ♠ ), Card(Jack, ♥ ), Card(Ten, ♠ ), Card(Eight, ♦ ), Card(Ten, ♦ )])\n",
    "    h3 = PokerHand([Card(Ace, ♣ ), Card(King, ♠ ), Card(Queen, ♦ ), Card(Jack, ♥ ), Card(Ten, ♣ )])\n",
    "    h4 = PokerHand([Card(Ace, ♣ ), Card(King, ♣ ), Card(Queen, ♣ ), Card(Jack, ♣ ), Card(Ten, ♣ )])\n",
    "    h5 = PokerHand([Card(Ace, ♦ ), Card(King, ♦ ), Card(Queen, ♦ ), Card(Jack, ♦ ), Card(Ten, ♦ )])\n",
    "    h6 = PokerHand([Card(King, ♦ ), Card(Queen, ♦ ), Card(Jack, ♦ ), Card(Ten, ♦ ), Card(Nine, ♦ )])\n",
    "\n",
    "    dh1 = deal_hand!(d)\n",
    "    restore_deck!(d)\n",
    "    dh2 = deal_hand!(d)\n",
    "\n",
    "    @test h1 == h1\n",
    "    @test h1 != h2\n",
    "    @test h1 < h2\n",
    "    @test h2 < h3\n",
    "    @test h3 < h4\n",
    "    @test h5 < h4\n",
    "    @test h6 < h5\n",
    "    \n",
    "    @test dh1 == dh2\n",
    "\n",
    "end\n",
    "\n",
    "d = Deck()\n",
    "shuffle_deck!(d)\n",
    "\n",
    "## Play a hand of poker for two players.\n",
    "println(\"\\n------  PLAY A HAND OF POKER FOR 2 PLAYERS  --------------\\n\")\n",
    "play_poker!(d)\n",
    "\n",
    "\n",
    "println(\"\")\n",
    "\n",
    "\n",
    "end\n"
   ]
  }
 ],
 "metadata": {
  "kernelspec": {
   "display_name": "Julia 1.10.0",
   "language": "julia",
   "name": "julia-1.10"
  },
  "language_info": {
   "file_extension": ".jl",
   "mimetype": "application/julia",
   "name": "julia",
   "version": "1.10.0"
  }
 },
 "nbformat": 4,
 "nbformat_minor": 5
}
