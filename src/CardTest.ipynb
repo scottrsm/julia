{
 "cells": [
  {
   "cell_type": "code",
   "execution_count": null,
   "id": "0e26ea4f-0094-49c5-972c-43968cc61e33",
   "metadata": {
    "tags": []
   },
   "outputs": [],
   "source": [
    "module CardsTest\n",
    "\n",
    "using Random\n",
    "using Test\n",
    "\n",
    "using Cards\n",
    "\n",
    "@testset \"Test for Ambiguities in the Module\" begin\n",
    "    @test length(detect_ambiguities(Cards)) == 0\n",
    "end\n",
    "\n",
    "    \n",
    "@testset \"Testing poker hand comparisons of hands 1-6...\" begin\n",
    "    Random.seed!(22)\n",
    "    d = Deck()\n",
    "    shuffle_deck!(d)\n",
    "\n",
    "    ## Manually construct 6 hands...\n",
    "    h1 = PokerHand([Card(Four, ♥ ), Card(Jack, ♦ ), Card(Six, ♣ ), Card(King, ♦ ), Card(Six, ♠ )])\n",
    "    h2 = PokerHand([Card(Two, ♠ ), Card(Jack, ♥ ), Card(Ten, ♠ ), Card(Eight, ♦ ), Card(Ten, ♦ )])\n",
    "    h3 = PokerHand([Card(Ace, ♣ ), Card(King, ♠ ), Card(Queen, ♦ ), Card(Jack, ♥ ), Card(Ten, ♣ )])\n",
    "    h4 = PokerHand([Card(Ace, ♣ ), Card(King, ♣ ), Card(Queen, ♣ ), Card(Jack, ♣ ), Card(Ten, ♣ )])\n",
    "    h5 = PokerHand([Card(Ace, ♦ ), Card(King, ♦ ), Card(Queen, ♦ ), Card(Jack, ♦ ), Card(Ten, ♦ )])\n",
    "    h6 = PokerHand([Card(King, ♦ ), Card(Queen, ♦ ), Card(Jack, ♦ ), Card(Ten, ♦ ), Card(Nine, ♦ )])\n",
    "\n",
    "    dh1 = deal_hand!(d)\n",
    "    restore_deck!(d)\n",
    "    dh2 = deal_hand!(d)\n",
    "\n",
    "    @test h1 == h1\n",
    "    @test h1 != h2\n",
    "    @test h1 < h2\n",
    "    @test h2 < h3\n",
    "    @test h3 < h4\n",
    "    @test h5 < h4\n",
    "    @test h6 < h5\n",
    "    \n",
    "    @test dh1 == dh2\n",
    "\n",
    "end\n",
    "\n",
    "d = Deck()\n",
    "\n",
    "for i in 1:10\n",
    "    shuffle_deck!(d)\n",
    "\n",
    "    ## Play a hand of poker for two players.\n",
    "    println(\"\\n------  GAME $i: PLAY A HAND OF POKER FOR 2 PLAYERS  --------------\\n\")\n",
    "    play_poker!(d)\n",
    "    println(\"END GAME\\n\")\n",
    "end\n",
    "\n",
    "end"
   ]
  },
  {
   "cell_type": "code",
   "execution_count": null,
   "id": "b9d572a5-0284-49c0-8957-67441d19fec7",
   "metadata": {},
   "outputs": [],
   "source": []
  }
 ],
 "metadata": {
  "kernelspec": {
   "display_name": "Julia 1.10.0",
   "language": "julia",
   "name": "julia-1.10"
  },
  "language_info": {
   "file_extension": ".jl",
   "mimetype": "application/julia",
   "name": "julia",
   "version": "1.10.0"
  }
 },
 "nbformat": 4,
 "nbformat_minor": 5
}
