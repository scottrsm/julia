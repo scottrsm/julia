{
 "cells": [
  {
   "cell_type": "code",
   "execution_count": null,
   "id": "67d3ff4e-d704-4dae-b84e-6dafb63270d7",
   "metadata": {},
   "outputs": [],
   "source": [
    "using Revise\n",
    "using Plots\n",
    "import Random\n",
    "using Test"
   ]
  },
  {
   "cell_type": "code",
   "execution_count": null,
   "id": "e50472ed-da55-4f3f-921e-df860881c41d",
   "metadata": {},
   "outputs": [],
   "source": [
    "using Cluster"
   ]
  },
  {
   "cell_type": "markdown",
   "id": "ad901e68-8852-4dbe-8dd7-99d8b8d19811",
   "metadata": {},
   "source": [
    "### Generate a Cluster Problem\n",
    "- Create 4 distinct points.\n",
    "- Added noise about these points."
   ]
  },
  {
   "cell_type": "code",
   "execution_count": null,
   "id": "9ee56805-e5b5-4653-b1ab-8d6d5e8162aa",
   "metadata": {},
   "outputs": [],
   "source": [
    "Random.seed!(1)\n",
    "M1 = [-1,-2] .+ rand(2, 100)\n",
    "M2 = 3.0 .* [1,2] .+ rand(2, 100)\n",
    "M3 = 6.0 .* [2,1] .+ rand(2, 100)\n",
    "M4 = 9.0 .* [1,1] .+ rand(2, 100)\n",
    "M5 = 12.0 .* [-1, 1] .+ rand(2, 100)\n",
    "M6 = 15.0 .* [0.5, 3.0] .+ rand(2, 100)\n",
    "M7 = 18.0 .+ [-2.4, 1.0] .+ rand(2, 100)\n",
    "M8 = 21.0 .+ [0.3, -0.3] .* rand(2, 100)\n",
    "M9 = 24.0 .+ rand(2, 100)\n",
    "M10 = 27.0 .+ rand(2, 100)\n",
    "\n",
    "M = hcat(M1, M2, M3, M4, M5, M6, M7, M8, M9, M10)"
   ]
  },
  {
   "cell_type": "markdown",
   "id": "8fd1fb86-8531-4690-ba03-9a8bacc7d5b6",
   "metadata": {},
   "source": [
    "### Find the best Clusters\n",
    "- Find best info for a range of cluster numbers.\n",
    "    - `ds` : The Total Variation for the cluster.                    Int -> Float\n",
    "    - `mp` : Map of the Index of a point to the index of a Centroid. Int -> (Int -> Int) \n",
    "    - `xc` : The map of Centroid Indices to Centroids.               Int -> (2xn)Matrix{Float}\n",
    "    - `sd` : The list of unused Centroid Indices.                    Int -> Vector{Int}"
   ]
  },
  {
   "cell_type": "code",
   "execution_count": null,
   "id": "7a7039d2-7a33-43d1-85ac-4f13eb41d60e",
   "metadata": {},
   "outputs": [],
   "source": [
    "using Cluster\n",
    "kbest, mp, xc, ds = find_best_cluster(M, 2:15, verbose=true, num_trials=300, N=1000, threshold=1.0e-2)"
   ]
  },
  {
   "cell_type": "code",
   "execution_count": null,
   "id": "19874c71-5277-4b9b-ae78-cd163cefbc33",
   "metadata": {},
   "outputs": [],
   "source": [
    "xc"
   ]
  },
  {
   "cell_type": "code",
   "execution_count": null,
   "id": "0f3fbf8e-3751-4314-93d8-cb2a374f169e",
   "metadata": {},
   "outputs": [],
   "source": [
    "ds"
   ]
  },
  {
   "cell_type": "markdown",
   "id": "b5860025-ea98-4228-b459-a2c49284a68a",
   "metadata": {},
   "source": [
    "### Plot the Result"
   ]
  },
  {
   "cell_type": "code",
   "execution_count": null,
   "id": "1002e291-1298-485f-a9fd-d47f68c14c41",
   "metadata": {},
   "outputs": [],
   "source": [
    "x = xc[1, :]\n",
    "y = xc[2, :]"
   ]
  },
  {
   "cell_type": "code",
   "execution_count": null,
   "id": "67a64652-d7dd-478e-8de5-a3bf69cad683",
   "metadata": {},
   "outputs": [],
   "source": [
    "xp = M[1, :]\n",
    "yp = M[2, :];"
   ]
  },
  {
   "cell_type": "code",
   "execution_count": null,
   "id": "ecf1c269-f19b-4412-ad76-bf420689c4c8",
   "metadata": {},
   "outputs": [],
   "source": [
    "xs = vcat(xp, x)\n",
    "xmin = minimum(xs)\n",
    "xmax = maximum(xs)\n",
    "\n",
    "ys = vcat(yp, y)\n",
    "ymin = minimum(ys)\n",
    "ymax = maximum(ys)\n",
    "\n",
    "plot(xp, yp, seriestype=:scatter, color=\"blue\", legend=:none, xlims=(xmin-1.0, xmax+1.0), ylims=(ymin-1.0, ymax+1.0))\n",
    "g = plot!(x, y, seriestype=:scatter, color=\"yellow\")"
   ]
  },
  {
   "cell_type": "code",
   "execution_count": null,
   "id": "971878c8-80b3-4837-8045-e578b1ce60c9",
   "metadata": {},
   "outputs": [],
   "source": [
    "savefig(g,\"file.svg\")"
   ]
  },
  {
   "cell_type": "markdown",
   "id": "a30ea6c2-1196-483e-803a-ecccd1b256bc",
   "metadata": {},
   "source": [
    "## Apply find_best_cluster to Iris DataSet"
   ]
  },
  {
   "cell_type": "code",
   "execution_count": null,
   "id": "47da2398-93d1-4c79-a8aa-bbdc408828df",
   "metadata": {},
   "outputs": [],
   "source": [
    "import RDatasets"
   ]
  },
  {
   "cell_type": "code",
   "execution_count": null,
   "id": "a83e2032-1400-400f-a6bb-d10c8cfc1a67",
   "metadata": {},
   "outputs": [],
   "source": [
    "iris = RDatasets.dataset(\"datasets\", \"iris\")"
   ]
  },
  {
   "cell_type": "code",
   "execution_count": null,
   "id": "25586cf0-4928-4b05-a7cc-4a290f014220",
   "metadata": {},
   "outputs": [],
   "source": [
    "MI = permutedims(Matrix(iris[:, [:SepalWidth, :SepalLength]]), (2,1))\n"
   ]
  },
  {
   "cell_type": "code",
   "execution_count": null,
   "id": "8e477aef-1ac6-4dbd-9ffe-2ee61a71f760",
   "metadata": {},
   "outputs": [],
   "source": [
    "kbest, mp, xc, ds = find_best_cluster(MI, 2:7; dmetric=L2, verbose=true, num_trials=300, N=1000, threshold=1.0e-2)"
   ]
  },
  {
   "cell_type": "code",
   "execution_count": null,
   "id": "fdb741c7-f6fc-4a4a-afbe-9017699eda7b",
   "metadata": {},
   "outputs": [],
   "source": [
    "x = xc[1, :]\n",
    "y = xc[2, :];"
   ]
  },
  {
   "cell_type": "code",
   "execution_count": null,
   "id": "dcbc66bc-a028-4308-b564-e20d6fcec637",
   "metadata": {},
   "outputs": [],
   "source": [
    "xp = MI[1, :]\n",
    "yp = MI[2, :];\n",
    "sp = map(iris[:, :Species]) do spec\n",
    "      if spec == \"virginica\"\n",
    "        1\n",
    "    elseif spec == \"versicolor\"\n",
    "        2\n",
    "    else\n",
    "        3\n",
    "    end\n",
    "    end;"
   ]
  },
  {
   "cell_type": "code",
   "execution_count": null,
   "id": "fa2257a5-1692-40fe-b2d5-91f8fc78ae5b",
   "metadata": {},
   "outputs": [],
   "source": [
    "xs = vcat(xp, x)\n",
    "xmin = minimum(xs)\n",
    "xmax = maximum(xs)\n",
    "\n",
    "ys = vcat(yp, y)\n",
    "ymin = minimum(ys)\n",
    "ymax = maximum(ys)\n",
    "\n",
    "plot(xp, yp, seriestype=:scatter, color=sp, legend=:none, xlims=(xmin-1.0, xmax+1.0), ylims=(ymin-1.0, ymax+1.0))\n",
    "g = plot!(x, y, seriestype=:scatter, color=\"yellow\")"
   ]
  },
  {
   "cell_type": "code",
   "execution_count": null,
   "id": "33f9958f-8ee0-4d7f-bb11-143dcc8a4f34",
   "metadata": {},
   "outputs": [],
   "source": [
    "savefig(g,\"iris.svg\")"
   ]
  },
  {
   "cell_type": "code",
   "execution_count": null,
   "id": "13e4dd74-1234-4559-9014-76e8202d197b",
   "metadata": {},
   "outputs": [],
   "source": [
    "kbest, mp, xc, ds = find_best_cluster(MI, 2:7; dmetric=(x,y;kwargs...) -> LP(x,y,1;kwargs...), verbose=true, num_trials=300, N=1000, threshold=1.0e-2)"
   ]
  },
  {
   "cell_type": "code",
   "execution_count": null,
   "id": "0a4f56ed-b93b-4391-bb48-38813aca867b",
   "metadata": {},
   "outputs": [],
   "source": [
    "x = xc[1, :]\n",
    "y = xc[2, :]"
   ]
  },
  {
   "cell_type": "code",
   "execution_count": null,
   "id": "cf0c7e6d-936f-4585-8b61-eb6025641303",
   "metadata": {},
   "outputs": [],
   "source": [
    "xp = MI[1, :]\n",
    "yp = MI[2, :];\n",
    "sp = map(iris[:, :Species]) do spec\n",
    "      if spec == \"virginica\"\n",
    "        1\n",
    "    elseif spec == \"versicolor\"\n",
    "        2\n",
    "    else\n",
    "        3\n",
    "    end\n",
    "    end;"
   ]
  },
  {
   "cell_type": "code",
   "execution_count": null,
   "id": "a6296f18-236f-4069-8219-1d473d35c89f",
   "metadata": {},
   "outputs": [],
   "source": [
    "xs = vcat(xp, x)\n",
    "xmin = minimum(xs)\n",
    "xmax = maximum(xs)\n",
    "\n",
    "ys = vcat(yp, y)\n",
    "ymin = minimum(ys)\n",
    "ymax = maximum(ys)\n",
    "\n",
    "plot(xp, yp, seriestype=:scatter, color=sp, legend=:none, xlims=(xmin-1.0, xmax+1.0), ylims=(ymin-1.0, ymax+1.0))\n",
    "g = plot!(x, y, seriestype=:scatter, color=\"yellow\")"
   ]
  },
  {
   "cell_type": "code",
   "execution_count": null,
   "id": "4f329f3e-c584-48b3-9e30-1f51b83b4efa",
   "metadata": {},
   "outputs": [],
   "source": [
    "kbest, mp, xc, ds = find_best_cluster(MI, 2:7; dmetric=KL, verbose=true, num_trials=300, N=1000, threshold=1.0e-2)"
   ]
  },
  {
   "cell_type": "code",
   "execution_count": null,
   "id": "abf26ebe-daec-4d9e-87b7-852094568303",
   "metadata": {},
   "outputs": [],
   "source": [
    "x = xc[1, :]\n",
    "y = xc[2, :]"
   ]
  },
  {
   "cell_type": "code",
   "execution_count": null,
   "id": "487329af-09c7-4369-8724-14150a971d71",
   "metadata": {},
   "outputs": [],
   "source": [
    "xp = MI[1, :]\n",
    "yp = MI[2, :];\n",
    "sp = map(iris[:, :Species]) do spec\n",
    "      if spec == \"virginica\"\n",
    "        1\n",
    "    elseif spec == \"versicolor\"\n",
    "        2\n",
    "    else\n",
    "        3\n",
    "    end\n",
    "    end;"
   ]
  },
  {
   "cell_type": "code",
   "execution_count": null,
   "id": "ca5d2a81-dca7-44f2-9a09-3022bce5a667",
   "metadata": {},
   "outputs": [],
   "source": [
    "xs = vcat(xp, x)\n",
    "xmin = minimum(xs)\n",
    "xmax = maximum(xs)\n",
    "\n",
    "ys = vcat(yp, y)\n",
    "ymin = minimum(ys)\n",
    "ymax = maximum(ys)\n",
    "\n",
    "plot(xp, yp, seriestype=:scatter, color=sp, legend=:none, xlims=(xmin-1.0, xmax+1.0), ylims=(ymin-1.0, ymax+1.0))\n",
    "g = plot!(x, y, seriestype=:scatter, color=\"yellow\")"
   ]
  },
  {
   "cell_type": "code",
   "execution_count": null,
   "id": "cf2127c8-9291-479c-b67a-a5b205168d66",
   "metadata": {},
   "outputs": [],
   "source": [
    "ds"
   ]
  }
 ],
 "metadata": {
  "kernelspec": {
   "display_name": "Julia 1.10.0",
   "language": "julia",
   "name": "julia-1.10"
  },
  "language_info": {
   "file_extension": ".jl",
   "mimetype": "application/julia",
   "name": "julia",
   "version": "1.10.0"
  }
 },
 "nbformat": 4,
 "nbformat_minor": 5
}
