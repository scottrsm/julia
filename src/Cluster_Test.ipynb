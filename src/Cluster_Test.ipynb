{
 "cells": [
  {
   "cell_type": "code",
   "execution_count": null,
   "id": "67d3ff4e-d704-4dae-b84e-6dafb63270d7",
   "metadata": {},
   "outputs": [],
   "source": [
    "using Revise\n",
    "using Plots\n",
    "import Random\n",
    "using Test"
   ]
  },
  {
   "cell_type": "code",
   "execution_count": null,
   "id": "e50472ed-da55-4f3f-921e-df860881c41d",
   "metadata": {},
   "outputs": [],
   "source": [
    "using Cluster"
   ]
  },
  {
   "cell_type": "markdown",
   "id": "ad901e68-8852-4dbe-8dd7-99d8b8d19811",
   "metadata": {},
   "source": [
    "### Generate a Cluster Problem\n",
    "- Create 4 distinct points.\n",
    "- Added noise about these points."
   ]
  },
  {
   "cell_type": "code",
   "execution_count": null,
   "id": "9ee56805-e5b5-4653-b1ab-8d6d5e8162aa",
   "metadata": {},
   "outputs": [],
   "source": [
    "Random.seed!(1)\n",
    "M1 = [-1,-2] .+ rand(2, 100)\n",
    "M2 = 3.0 .* [1,2] .+ rand(2, 100)\n",
    "M3 = 6.0 .* [2,1] .+ rand(2, 100)\n",
    "M4 = 9.0 .* [1,1] .+ rand(2, 100)\n",
    "M5 = 12.0 .* [-1, 1] .+ rand(2, 100)\n",
    "M6 = 15.0 .* [0.5, 3.0] .+ rand(2, 100)\n",
    "M7 = 18.0 .+ [-2.4, 1.0] .+ rand(2, 100)\n",
    "M8 = 21.0 .+ [0.3, -0.3] .* rand(2, 100)\n",
    "M9 = 24.0 .+ rand(2, 100)\n",
    "M10 = 27.0 .+ rand(2, 100)\n",
    "\n",
    "M = hcat(M1, M2, M3, M4, M5, M6, M7, M8, M9, M10)"
   ]
  },
  {
   "cell_type": "markdown",
   "id": "8fd1fb86-8531-4690-ba03-9a8bacc7d5b6",
   "metadata": {},
   "source": [
    "### Find the best Clusters\n",
    "- Find best info for a range of cluster numbers.\n",
    "    - `ds` : The Total Variation for the cluster.                    Int -> Float\n",
    "    - `mp` : Map of the Index of a point to the index of a Centroid. Int -> (Int -> Int) \n",
    "    - `xc` : The map of Centroid Indices to Centroids.               Int -> (2xn)Matrix{Float}\n",
    "    - `sd` : The list of unused Centroid Indices.                    Int -> Vector{Int}"
   ]
  },
  {
   "cell_type": "code",
   "execution_count": null,
   "id": "22c02978-78fd-4bce-a095-64dbe6bddcb6",
   "metadata": {},
   "outputs": [],
   "source": [
    "ds, mp, xc, sd = find_best_info_for_ks(M, 2:15, num_trials=300, N=1000, threshold=1.0e-2)"
   ]
  },
  {
   "cell_type": "markdown",
   "id": "580ff7c7-b0f6-445c-9969-bdb3bef5dede",
   "metadata": {},
   "source": [
    "### Find the Best Cluster\n",
    "- Find best the best cluster number from a range of cluster numbers.\n",
    "    - kbest: The best cluster number.                                Int\n",
    "    - mp   : The map of the index of points to cluster index.        Int -> Int\n",
    "    - xc   : The vector of Cluster Centroids                         (2xn) Matrix{Float\n",
    "    - sd   : The vector of unused Cnetroid indices.                  Vector{Int}\n",
    "    - ds   : The Total Variation for this Cluster.                   Float"
   ]
  },
  {
   "cell_type": "code",
   "execution_count": null,
   "id": "14ad10a3-3cce-4698-9d75-b5a817eb22a2",
   "metadata": {
    "jupyter": {
     "source_hidden": true
    }
   },
   "outputs": [],
   "source": [
    "kbest, mp, xc, sd, ds = find_best_cluster(M, 2:15, num_trials=300, N=1000, threshold=1.0e-2)"
   ]
  },
  {
   "cell_type": "markdown",
   "id": "b93d662c-2538-4344-a7dd-56d61b2e7f2b",
   "metadata": {},
   "source": [
    "### Find the Best Cluster\n",
    "- Find best the best cluster number from a range of cluster numbers.\n",
    "    - kbest: The best cluster number.                                Int\n",
    "    - mp   : The map of the index of points to cluster index.        Int -> Int\n",
    "    - xc   : The vector of Cluster Centroids                         (2xn) Matrix{Float\n",
    "    - sd   : The vector of unused Cnetroid indices.                  Vector{Int}\n",
    "    - ds   : The Total Variation for this Cluster.                   Float"
   ]
  },
  {
   "cell_type": "code",
   "execution_count": null,
   "id": "794c8ad3-a01d-434e-8584-de03f3fa3b93",
   "metadata": {
    "jupyter": {
     "source_hidden": true
    }
   },
   "outputs": [],
   "source": [
    "kbest, mp, xc, sd, ds = find_best_cluster(M, 2:15, num_trials=300, N=1000, threshold=1.0e-2)"
   ]
  },
  {
   "cell_type": "markdown",
   "id": "da9ff045-3b75-4f36-aecc-b03c436b2d10",
   "metadata": {},
   "source": [
    "### Find the Best Cluster\n",
    "- Find best the best cluster number from a range of cluster numbers.\n",
    "    - kbest: The best cluster number.                                Int\n",
    "    - mp   : The map of the index of points to cluster index.        Int -> Int\n",
    "    - xc   : The vector of Cluster Centroids                         (2xn) Matrix{Float\n",
    "    - sd   : The vector of unused Cnetroid indices.                  Vector{Int}\n",
    "    - ds   : The Total Variation for this Cluster.                   Float"
   ]
  },
  {
   "cell_type": "code",
   "execution_count": null,
   "id": "7a7039d2-7a33-43d1-85ac-4f13eb41d60e",
   "metadata": {},
   "outputs": [],
   "source": [
    "kbest, mp, xc, sd, ds = find_best_cluster(M, 2:15, num_trials=300, N=1000, threshold=1.0e-2)"
   ]
  },
  {
   "cell_type": "markdown",
   "id": "2fef1516-f55e-4762-905b-f495f17099e0",
   "metadata": {},
   "source": [
    "### Plot the Result"
   ]
  },
  {
   "cell_type": "code",
   "execution_count": null,
   "id": "1002e291-1298-485f-a9fd-d47f68c14c41",
   "metadata": {},
   "outputs": [],
   "source": [
    "x = xc[1, :]\n",
    "y = xc[2, :]"
   ]
  },
  {
   "cell_type": "code",
   "execution_count": null,
   "id": "67a64652-d7dd-478e-8de5-a3bf69cad683",
   "metadata": {},
   "outputs": [],
   "source": [
    "xp = M[1, :]\n",
    "yp = M[2, :];"
   ]
  },
  {
   "cell_type": "code",
   "execution_count": null,
   "id": "ecf1c269-f19b-4412-ad76-bf420689c4c8",
   "metadata": {},
   "outputs": [],
   "source": [
    "xs = vcat(xp, x)\n",
    "xmin = minimum(xs)\n",
    "xmax = maximum(xs)\n",
    "\n",
    "ys = vcat(yp, y)\n",
    "ymin = minimum(ys)\n",
    "ymax = maximum(ys)\n",
    "\n",
    "plot(xp, yp, seriestype=:scatter, color=\"blue\", legend=:none, xlims=(xmin-1.0, xmax+1.0), ylims=(ymin-1.0, ymax+1.0))\n",
    "plot!(x, y, seriestype=:scatter, color=\"yellow\")"
   ]
  },
  {
   "cell_type": "code",
   "execution_count": null,
   "id": "da360e0e-bc7f-4e89-a31a-dea6ac1a147b",
   "metadata": {},
   "outputs": [],
   "source": []
  },
  {
   "cell_type": "code",
   "execution_count": null,
   "id": "5498f726-97e7-426a-9bec-fd7955e2a7fe",
   "metadata": {},
   "outputs": [],
   "source": []
  }
 ],
 "metadata": {
  "kernelspec": {
   "display_name": "Julia 1.9.4",
   "language": "julia",
   "name": "julia-1.9"
  },
  "language_info": {
   "file_extension": ".jl",
   "mimetype": "application/julia",
   "name": "julia",
   "version": "1.9.4"
  }
 },
 "nbformat": 4,
 "nbformat_minor": 5
}
