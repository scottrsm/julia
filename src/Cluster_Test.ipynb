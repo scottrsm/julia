{
 "cells": [
  {
   "cell_type": "code",
   "execution_count": null,
   "id": "67d3ff4e-d704-4dae-b84e-6dafb63270d7",
   "metadata": {},
   "outputs": [],
   "source": [
    "using Revise\n",
    "using Plots\n",
    "using Test\n",
    "import Random\n",
    "using BenchmarkTools"
   ]
  },
  {
   "cell_type": "code",
   "execution_count": null,
   "id": "e50472ed-da55-4f3f-921e-df860881c41d",
   "metadata": {},
   "outputs": [],
   "source": [
    "using Cluster"
   ]
  },
  {
   "cell_type": "markdown",
   "id": "ad901e68-8852-4dbe-8dd7-99d8b8d19811",
   "metadata": {},
   "source": [
    "### Generate a Cluster Problem\n",
    "- Create 4 distinct points.\n",
    "- Added noise about these points."
   ]
  },
  {
   "cell_type": "code",
   "execution_count": null,
   "id": "9ee56805-e5b5-4653-b1ab-8d6d5e8162aa",
   "metadata": {},
   "outputs": [],
   "source": [
    "Random.seed!(1)\n",
    "M1 = [-1,-2] .+ rand(2, 100)\n",
    "M2 = 3.0 .* [1,2] .+ rand(2, 100)\n",
    "M3 = 6.0 .* [2,1] .+ rand(2, 100)\n",
    "M4 = 9.0 .* [1,1] .+ rand(2, 100)\n",
    "M5 = 12.0 .* [-1, 1] .+ rand(2, 100)\n",
    "M6 = 15.0 .* [0.5, 3.0] .+ rand(2, 100)\n",
    "M7 = 18.0 .+ [-2.4, 1.0] .+ rand(2, 100)\n",
    "M8 = 21.0 .+ [0.3, -0.3] .* rand(2, 100)\n",
    "M9 = 24.0 .+ rand(2, 100)\n",
    "M10 = 27.0 .+ rand(2, 100)\n",
    "\n",
    "M = hcat(M1, M2, M3, M4, M5, M6, M7, M8, M9, M10)"
   ]
  },
  {
   "cell_type": "markdown",
   "id": "8fd1fb86-8531-4690-ba03-9a8bacc7d5b6",
   "metadata": {},
   "source": [
    "### Find the best Clusters\n",
    "- Find best info for a range of cluster numbers.\n",
    "    - `ds` : The Total Variation for the cluster.                    Int -> Float\n",
    "    - `mp` : Map of the Index of a point to the index of a Centroid. Int -> (Int -> Int) \n",
    "    - `xc` : The map of Centroid Indices to Centroids.               Int -> (2xn)Matrix{Float}\n",
    "    - `sd` : The list of unused Centroid Indices.                    Int -> Vector{Int}"
   ]
  },
  {
   "cell_type": "code",
   "execution_count": null,
   "id": "7a7039d2-7a33-43d1-85ac-4f13eb41d60e",
   "metadata": {},
   "outputs": [],
   "source": [
    "@time kbest, mp, xc, tv = find_best_cluster(M, 2:15, verbose=true, num_trials=300, N=1000, threshold=1.0e-2)"
   ]
  },
  {
   "cell_type": "code",
   "execution_count": null,
   "id": "9a0260fd-4826-47c6-acca-217566f6428e",
   "metadata": {},
   "outputs": [],
   "source": [
    "@time kbest, mp, xc, tv = find_best_cluster(M, 2:15, verbose=true, num_trials=300, N=1000, threshold=1.0e-2)"
   ]
  },
  {
   "cell_type": "code",
   "execution_count": null,
   "id": "69acef61-82e4-401e-a719-44f4e713c002",
   "metadata": {},
   "outputs": [],
   "source": [
    "xc"
   ]
  },
  {
   "cell_type": "code",
   "execution_count": null,
   "id": "0f3fbf8e-3751-4314-93d8-cb2a374f169e",
   "metadata": {},
   "outputs": [],
   "source": [
    "tv"
   ]
  },
  {
   "cell_type": "markdown",
   "id": "b5860025-ea98-4228-b459-a2c49284a68a",
   "metadata": {},
   "source": [
    "### Plot the Result"
   ]
  },
  {
   "cell_type": "code",
   "execution_count": null,
   "id": "1002e291-1298-485f-a9fd-d47f68c14c41",
   "metadata": {},
   "outputs": [],
   "source": [
    "x = xc[1, :]\n",
    "y = xc[2, :]"
   ]
  },
  {
   "cell_type": "code",
   "execution_count": null,
   "id": "67a64652-d7dd-478e-8de5-a3bf69cad683",
   "metadata": {},
   "outputs": [],
   "source": [
    "xp = M[1, :]\n",
    "yp = M[2, :];"
   ]
  },
  {
   "cell_type": "code",
   "execution_count": null,
   "id": "ecf1c269-f19b-4412-ad76-bf420689c4c8",
   "metadata": {},
   "outputs": [],
   "source": [
    "xs = vcat(xp, x)\n",
    "xmin = minimum(xs)\n",
    "xmax = maximum(xs)\n",
    "\n",
    "ys = vcat(yp, y)\n",
    "ymin = minimum(ys)\n",
    "ymax = maximum(ys)\n",
    "\n",
    "plot(xp, yp, seriestype=:scatter, color=\"blue\", legend=:none, xlims=(xmin-1.0, xmax+1.0), ylims=(ymin-1.0, ymax+1.0))\n",
    "g = plot!(x, y, seriestype=:scatter, color=\"yellow\")"
   ]
  },
  {
   "cell_type": "code",
   "execution_count": null,
   "id": "7eebe0b4-9c78-428c-b333-96a6f71eab51",
   "metadata": {},
   "outputs": [],
   "source": [
    "savefig(g,\"synth_data_set_test.svg\")"
   ]
  },
  {
   "cell_type": "markdown",
   "id": "b26ba710-b46f-4f63-87c3-a5570a40b085",
   "metadata": {},
   "source": [
    "### Higher Dimensional Version\n",
    "We can't visualize, but look to see how close *kbest* is to 10."
   ]
  },
  {
   "cell_type": "code",
   "execution_count": null,
   "id": "a7e3388a-a1c8-43b9-bc3c-2bc4c689ac46",
   "metadata": {},
   "outputs": [],
   "source": [
    "Random.seed!(1)\n",
    "M1 = [-1,-2,1, 1] .+ rand(4, 100)\n",
    "M2 = 3.0 .* [1,2, -1, 2] .+ rand(4, 100)\n",
    "M3 = 6.0 .* [2,1, 0, 3] .+ rand(4, 100)\n",
    "M4 = 9.0 .* [1,1, -2, 0] .+ rand(4, 100)\n",
    "M5 = 12.0 .* [-1, 1, 2, 2] .+ rand(4, 100)\n",
    "M6 = 15.0 .* [0.5, 3.0, 2, -2] .+ rand(4, 100)\n",
    "M7 = 18.0 .+ [-2.4, 1.0, 2, 0] .+ rand(4, 100)\n",
    "M8 = 21.0 .+ [0.3, -0.3, 1, -1] .* rand(4, 100)\n",
    "M9 = 24.0 .+ rand(4, 100)\n",
    "M10 = 27.0 .+ rand(4, 100)\n",
    "\n",
    "M = hcat(M1, M2, M3, M4, M5, M6, M7, M8, M9, M10)"
   ]
  },
  {
   "cell_type": "code",
   "execution_count": null,
   "id": "2481fd75-ca89-4204-b08b-c937ccc761a6",
   "metadata": {},
   "outputs": [],
   "source": [
    "using Cluster"
   ]
  },
  {
   "cell_type": "code",
   "execution_count": null,
   "id": "a10fbce6-9b3e-49c9-af82-a6e3a5ed6f85",
   "metadata": {},
   "outputs": [],
   "source": [
    "kbest, mp, xc, tv = find_best_cluster(M, 2:15, verbose=true, num_trials=300, N=1000, threshold=1.0e-2)"
   ]
  },
  {
   "cell_type": "code",
   "execution_count": null,
   "id": "6d019c2c-2599-4b58-af41-df93516e0df3",
   "metadata": {},
   "outputs": [],
   "source": [
    "kbest"
   ]
  },
  {
   "cell_type": "markdown",
   "id": "a30ea6c2-1196-483e-803a-ecccd1b256bc",
   "metadata": {},
   "source": [
    "## Apply find_best_cluster to Iris DataSet"
   ]
  },
  {
   "cell_type": "code",
   "execution_count": null,
   "id": "47da2398-93d1-4c79-a8aa-bbdc408828df",
   "metadata": {},
   "outputs": [],
   "source": [
    "import RDatasets"
   ]
  },
  {
   "cell_type": "code",
   "execution_count": null,
   "id": "a83e2032-1400-400f-a6bb-d10c8cfc1a67",
   "metadata": {},
   "outputs": [],
   "source": [
    "iris = RDatasets.dataset(\"datasets\", \"iris\")"
   ]
  },
  {
   "cell_type": "code",
   "execution_count": null,
   "id": "25586cf0-4928-4b05-a7cc-4a290f014220",
   "metadata": {},
   "outputs": [],
   "source": [
    "MI = permutedims(Matrix(iris[:, [:SepalWidth, :SepalLength]]), (2,1))\n"
   ]
  },
  {
   "cell_type": "code",
   "execution_count": null,
   "id": "6b3e9594-93fc-4e67-a603-13fa7889a558",
   "metadata": {},
   "outputs": [],
   "source": [
    "kbest, mp, xc, tv = find_best_cluster(MI, 2:7; dmetric=L2, verbose=true, num_trials=300, N=1000, threshold=1.0e-2)"
   ]
  },
  {
   "cell_type": "code",
   "execution_count": null,
   "id": "0f80db1f-21fb-459d-b2af-060c66999b9d",
   "metadata": {},
   "outputs": [],
   "source": [
    "xc"
   ]
  },
  {
   "cell_type": "code",
   "execution_count": null,
   "id": "fdb741c7-f6fc-4a4a-afbe-9017699eda7b",
   "metadata": {},
   "outputs": [],
   "source": [
    "x = xc[1, :]\n",
    "y = xc[2, :];"
   ]
  },
  {
   "cell_type": "code",
   "execution_count": null,
   "id": "dcbc66bc-a028-4308-b564-e20d6fcec637",
   "metadata": {},
   "outputs": [],
   "source": [
    "xp = MI[1, :]\n",
    "yp = MI[2, :];\n",
    "sp = map(iris[:, :Species]) do spec\n",
    "      if spec == \"virginica\"\n",
    "        1\n",
    "    elseif spec == \"versicolor\"\n",
    "        2\n",
    "    else\n",
    "        3\n",
    "    end\n",
    "    end;"
   ]
  },
  {
   "cell_type": "code",
   "execution_count": null,
   "id": "fa2257a5-1692-40fe-b2d5-91f8fc78ae5b",
   "metadata": {},
   "outputs": [],
   "source": [
    "xs = vcat(xp, x)\n",
    "xmin = minimum(xs)\n",
    "xmax = maximum(xs)\n",
    "\n",
    "ys = vcat(yp, y)\n",
    "ymin = minimum(ys)\n",
    "ymax = maximum(ys)\n",
    "\n",
    "plot(xp, yp, seriestype=:scatter, color=sp, legend=:none, xlims=(xmin-1.0, xmax+1.0), ylims=(ymin-1.0, ymax+1.0))\n",
    "g = plot!(x, y, seriestype=:scatter, color=\"yellow\")"
   ]
  },
  {
   "cell_type": "code",
   "execution_count": null,
   "id": "33f9958f-8ee0-4d7f-bb11-143dcc8a4f34",
   "metadata": {},
   "outputs": [],
   "source": [
    "savefig(g,\"iris_dataset_test.svg\")"
   ]
  },
  {
   "cell_type": "code",
   "execution_count": null,
   "id": "1b94957e-bd8f-4121-a8ff-eaff299d42a6",
   "metadata": {},
   "outputs": [],
   "source": [
    "kbest, mp, xc, tv = find_best_cluster(MI, 2:15; dmetric=(x,y;kwargs...) -> LP(x,y,1;kwargs...), verbose=true, num_trials=300, N=1000, threshold=1.0e-2)"
   ]
  },
  {
   "cell_type": "code",
   "execution_count": null,
   "id": "4f114e1e-4962-4979-8fa5-796feac5c259",
   "metadata": {},
   "outputs": [],
   "source": [
    "xc"
   ]
  },
  {
   "cell_type": "code",
   "execution_count": null,
   "id": "1ca90c00-3163-4d14-949e-335eaa890638",
   "metadata": {},
   "outputs": [],
   "source": [
    "x = xc[1, :]\n",
    "y = xc[2, :]"
   ]
  },
  {
   "cell_type": "code",
   "execution_count": null,
   "id": "cf0c7e6d-936f-4585-8b61-eb6025641303",
   "metadata": {},
   "outputs": [],
   "source": [
    "xp = MI[1, :]\n",
    "yp = MI[2, :];\n",
    "sp = map(iris[:, :Species]) do spec\n",
    "      if spec == \"virginica\"\n",
    "        1\n",
    "    elseif spec == \"versicolor\"\n",
    "        2\n",
    "    else\n",
    "        3\n",
    "    end\n",
    "    end;"
   ]
  },
  {
   "cell_type": "code",
   "execution_count": null,
   "id": "a6296f18-236f-4069-8219-1d473d35c89f",
   "metadata": {},
   "outputs": [],
   "source": [
    "xs = vcat(xp, x)\n",
    "xmin = minimum(xs)\n",
    "xmax = maximum(xs)\n",
    "\n",
    "ys = vcat(yp, y)\n",
    "ymin = minimum(ys)\n",
    "ymax = maximum(ys)\n",
    "\n",
    "plot(xp, yp, seriestype=:scatter, color=sp, legend=:none, xlims=(xmin-1.0, xmax+1.0), ylims=(ymin-1.0, ymax+1.0))\n",
    "g = plot!(x, y, seriestype=:scatter, color=\"yellow\")"
   ]
  },
  {
   "cell_type": "code",
   "execution_count": null,
   "id": "4f329f3e-c584-48b3-9e30-1f51b83b4efa",
   "metadata": {},
   "outputs": [],
   "source": [
    "kbest, mp, xc, tv = find_best_cluster(MI, 2:10; dmetric=KL, verbose=true, num_trials=300, N=1000, threshold=1.0e-2)"
   ]
  },
  {
   "cell_type": "code",
   "execution_count": null,
   "id": "9fe067aa-1b37-4dab-97e5-de74ae1d560f",
   "metadata": {},
   "outputs": [],
   "source": [
    "xc"
   ]
  },
  {
   "cell_type": "code",
   "execution_count": null,
   "id": "3f548b1e-3cba-43a1-88a5-24fdecf52652",
   "metadata": {},
   "outputs": [],
   "source": [
    "x = xc[1, :]\n",
    "y = xc[2, :]"
   ]
  },
  {
   "cell_type": "code",
   "execution_count": null,
   "id": "487329af-09c7-4369-8724-14150a971d71",
   "metadata": {},
   "outputs": [],
   "source": [
    "xp = MI[1, :]\n",
    "yp = MI[2, :];\n",
    "sp = map(iris[:, :Species]) do spec\n",
    "      if spec == \"virginica\"\n",
    "        1\n",
    "    elseif spec == \"versicolor\"\n",
    "        2\n",
    "    else\n",
    "        3\n",
    "    end\n",
    "    end;\n",
    "spec = iris[:, :Species];"
   ]
  },
  {
   "cell_type": "code",
   "execution_count": null,
   "id": "ca5d2a81-dca7-44f2-9a09-3022bce5a667",
   "metadata": {},
   "outputs": [],
   "source": [
    "xs = vcat(xp, x)\n",
    "xmin = minimum(xs)\n",
    "xmax = maximum(xs)\n",
    "\n",
    "ys = vcat(yp, y)\n",
    "ymin = minimum(ys)\n",
    "ymax = maximum(ys)\n",
    "\n",
    "plot(xp, yp, seriestype=:scatter, color=sp, group=spec, legend=true, xlims=(xmin-1.0, xmax+1.0), ylims=(ymin-1.0, ymax+1.0))\n",
    "g = plot!(x, y, seriestype=:scatter, color=\"yellow\", label=\"KMeans Centers\")"
   ]
  },
  {
   "cell_type": "code",
   "execution_count": null,
   "id": "bdbf8b91-d29e-4135-a526-ff714a4864b1",
   "metadata": {},
   "outputs": [],
   "source": [
    "kbest, mp, xc, tv = find_best_cluster(MI, 2:15; dmetric=CD, verbose=true, num_trials=300, N=1000, threshold=1.0e-2)"
   ]
  },
  {
   "cell_type": "code",
   "execution_count": null,
   "id": "780ab9f5-4b4b-4cc6-a17e-1b60299c0949",
   "metadata": {},
   "outputs": [],
   "source": [
    "xc"
   ]
  },
  {
   "cell_type": "code",
   "execution_count": null,
   "id": "db15c5a8-aeb9-411e-bd65-4ecf5d9a6e5c",
   "metadata": {},
   "outputs": [],
   "source": [
    "x = xc[1, :]\n",
    "y = xc[2, :]"
   ]
  },
  {
   "cell_type": "code",
   "execution_count": null,
   "id": "e72f0af3-7588-4355-b288-f4722da7fdfe",
   "metadata": {},
   "outputs": [],
   "source": [
    "tv"
   ]
  },
  {
   "cell_type": "code",
   "execution_count": null,
   "id": "78135a53-8d93-417b-9747-278bd65614d5",
   "metadata": {},
   "outputs": [],
   "source": [
    "xp = MI[1, :]\n",
    "yp = MI[2, :];\n",
    "sp = map(iris[:, :Species]) do spec\n",
    "      if spec == \"virginica\"\n",
    "        1\n",
    "    elseif spec == \"versicolor\"\n",
    "        2\n",
    "    else\n",
    "        3\n",
    "    end\n",
    "    end;\n",
    "spec = iris[:, :Species];"
   ]
  },
  {
   "cell_type": "code",
   "execution_count": null,
   "id": "f6a8fdc3-7f1d-4d9d-af4c-bc37bee6f4f6",
   "metadata": {},
   "outputs": [],
   "source": [
    "xs = vcat(xp, x)\n",
    "xmin = minimum(xs)\n",
    "xmax = maximum(xs)\n",
    "\n",
    "ys = vcat(yp, y)\n",
    "ymin = minimum(ys)\n",
    "ymax = maximum(ys)\n",
    "\n",
    "plot(xp, yp, seriestype=:scatter, color=sp, group=spec, legend=true, xlims=(xmin-1.0, xmax+1.0), ylims=(ymin-1.0, ymax+1.0))\n",
    "g = plot!(x, y, seriestype=:scatter, color=\"yellow\", label=\"KMeans Centers\")"
   ]
  },
  {
   "cell_type": "code",
   "execution_count": null,
   "id": "76057f7f-0c0a-44f2-ab18-6d8cfa6031cd",
   "metadata": {},
   "outputs": [],
   "source": [
    "kbest, mp, xc, tv = find_best_cluster(MI, 2:10; dmetric=JD, verbose=true, num_trials=300, N=1000, threshold=1.0e-2)"
   ]
  },
  {
   "cell_type": "code",
   "execution_count": null,
   "id": "42d0ef97-4a0f-4f9b-9980-17e123dbe132",
   "metadata": {},
   "outputs": [],
   "source": [
    "display(xc)"
   ]
  },
  {
   "cell_type": "code",
   "execution_count": null,
   "id": "00eac429-3ce5-41c2-9a60-989a88f196a0",
   "metadata": {},
   "outputs": [],
   "source": [
    "x = xc[1, :]\n",
    "y = xc[2, :]"
   ]
  },
  {
   "cell_type": "code",
   "execution_count": null,
   "id": "7dd773fe-a23f-4ddf-a04a-ca6aaa608291",
   "metadata": {},
   "outputs": [],
   "source": [
    "tv"
   ]
  },
  {
   "cell_type": "code",
   "execution_count": null,
   "id": "73407ff6-0a7b-46d2-b5fc-764460c5a2e8",
   "metadata": {},
   "outputs": [],
   "source": [
    "xp = MI[1, :]\n",
    "yp = MI[2, :];\n",
    "sp = map(iris[:, :Species]) do spec\n",
    "      if spec == \"virginica\"\n",
    "        1\n",
    "    elseif spec == \"versicolor\"\n",
    "        2\n",
    "    else\n",
    "        3\n",
    "    end\n",
    "    end;\n",
    "spec = iris[:, :Species];"
   ]
  },
  {
   "cell_type": "code",
   "execution_count": null,
   "id": "d01def13-d349-41ff-9273-57ba7a34076c",
   "metadata": {},
   "outputs": [],
   "source": [
    "xs = vcat(xp, x)\n",
    "xmin = minimum(xs)\n",
    "xmax = maximum(xs)\n",
    "\n",
    "ys = vcat(yp, y)\n",
    "ymin = minimum(ys)\n",
    "ymax = maximum(ys)\n",
    "\n",
    "plot(xp, yp, seriestype=:scatter, color=sp, group=spec, legend=true, xlims=(xmin-1.0, xmax+1.0), ylims=(ymin-1.0, ymax+1.0))\n",
    "g = plot!(x, y, seriestype=:scatter, color=\"yellow\", label=\"KMeans Centers\")"
   ]
  }
 ],
 "metadata": {
  "kernelspec": {
   "display_name": "Julia 1.10.0",
   "language": "julia",
   "name": "julia-1.10"
  },
  "language_info": {
   "file_extension": ".jl",
   "mimetype": "application/julia",
   "name": "julia",
   "version": "1.10.0"
  }
 },
 "nbformat": 4,
 "nbformat_minor": 5
}
