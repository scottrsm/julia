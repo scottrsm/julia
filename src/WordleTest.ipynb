{
 "cells": [
  {
   "cell_type": "markdown",
   "id": "f99555b9-37ae-4226-ae7d-c3570bf40817",
   "metadata": {},
   "source": [
    "### Strategy (solve_wordle)\n",
    "- Initial Conditions:\n",
    "  - Set puzzle_word\n",
    "  - X = Start with universe of 5 letter words along with freqency of usage.\n",
    "  - Set current_universe = X\n",
    "- Start\n",
    "  - Pick guess (pick the most frequent word in current_universe that we haven't picked previously)\n",
    "  - If guess == puzzle_word)\n",
    "    - Goto End\n",
    "  - Get wordle info about how close guess is to the correct word:\n",
    "    - wordle_info = create_wordle_info(<guess>, <puzzle_word>)\n",
    "      - Example wordle_info, create_wordle_info(\"exact\", \"crane\") = ( [('a', 3)], Dict('x' => (0, 0), 'c' => (1, 1), 'e' => (1, 1), 't' => (0, 0)) )\n",
    "  - Use this match info to filter existing universe.\n",
    "    - current_universe = filter_universe(wordle_info, current_universe)\n",
    "  - Goto Start\n",
    "- End\n",
    "    - Return guess "
   ]
  },
  {
   "cell_type": "markdown",
   "id": "68f507d6-e69f-44d8-80a9-b342a00a5dcc",
   "metadata": {},
   "source": [
    "### Environment\n",
    "- We assume that the server for this notebook has been launched at the top level for this project\n",
    "  as below we look for the Wordle database in the directory:  ENV[\"PWD\"] * \"/data/\" .\n",
    "- The Wordle database is a CSV file with schema: word, freq. Here.\n",
    "    - The values in the word column are strings assumed to match: r\"[a-z]{N}\", where N is a integer -- N is the same value for all rows.\n",
    "    - The items in the freq column are strings that represent floating point numbers. "
   ]
  },
  {
   "cell_type": "markdown",
   "id": "e3177858-062b-4a91-817c-e8395671b565",
   "metadata": {},
   "source": [
    "### Use/Import Packages"
   ]
  },
  {
   "cell_type": "code",
   "execution_count": null,
   "id": "613f12e8-ef43-4eda-853e-1abf5f741107",
   "metadata": {},
   "outputs": [],
   "source": [
    "using DataFrames\n",
    "using StatsBase\n",
    "using Statistics\n",
    "using CSV\n",
    "import Wordle\n",
    "using Wordle: create_wordle_info, filter_universe, freq_letter_strat, solve_wordle"
   ]
  },
  {
   "cell_type": "markdown",
   "id": "eab0b669-d9c5-4770-9db8-bb1a9550296b",
   "metadata": {},
   "source": [
    "### Functions to Solve Wordle Puzzle"
   ]
  },
  {
   "cell_type": "markdown",
   "id": "cec0129f-a0f4-49aa-b4d8-29faa6ec3c7f",
   "metadata": {},
   "source": [
    "### Read in Wordle Words\n",
    "- Five letter words and their frequencies are stored in two files.\n",
    "- Read them in and create a DataFrame, then sort the words from most to least used.\n",
    "- Words and frequencies obtained from the Mathematica function WordFrequencyData."
   ]
  },
  {
   "cell_type": "markdown",
   "id": "133057ad-69c7-4748-9f5a-93b5cdaadd60",
   "metadata": {},
   "source": [
    "### Setup Wordle Database"
   ]
  },
  {
   "cell_type": "code",
   "execution_count": null,
   "id": "015e265b-8727-4c11-80aa-17229643044e",
   "metadata": {},
   "outputs": [],
   "source": [
    "## Change this path to point to the wordle_db.csv path.\n",
    "## Load the Wordle database as a Dataframe with schema: word(5 letter lowercase word as String),freq(Relative frequency of word as Float64)\n",
    "const WORDLE_DF =  DataFrame(CSV.File(joinpath(dirname(pathof(Wordle)), \"../data\",  \"wordle_db.csv\"); header=6, types=[String7, Float64], comment=\"#\"));"
   ]
  },
  {
   "cell_type": "markdown",
   "id": "0d8ceda5-5d8c-41e0-b59b-d87eb2daaf60",
   "metadata": {},
   "source": [
    "### Testing"
   ]
  },
  {
   "cell_type": "code",
   "execution_count": null,
   "id": "8f8c8630-aa9a-4b4d-9edc-29d323b57f1a",
   "metadata": {},
   "outputs": [],
   "source": [
    "names(WORDLE_DF)"
   ]
  },
  {
   "cell_type": "code",
   "execution_count": null,
   "id": "dab35635-160c-4728-b48c-2301aa237df5",
   "metadata": {},
   "outputs": [],
   "source": [
    "pathof(Wordle)"
   ]
  },
  {
   "cell_type": "code",
   "execution_count": null,
   "id": "90dab976-a281-4a55-941b-3e7e673ddd5b",
   "metadata": {},
   "outputs": [],
   "source": [
    "create_wordle_info(\"exact\", \"crane\")"
   ]
  },
  {
   "cell_type": "code",
   "execution_count": null,
   "id": "96d67233-063e-4d88-936e-4f6ba83a492e",
   "metadata": {},
   "outputs": [],
   "source": [
    "(info, d) = create_wordle_info(\"there\", \"their\")\n",
    "println(info)\n",
    "println(d)"
   ]
  },
  {
   "cell_type": "code",
   "execution_count": null,
   "id": "7c91ba5e-9ba7-4c62-9387-0fe0f25b037e",
   "metadata": {},
   "outputs": [],
   "source": [
    "filter_universe((info, d), WORDLE_DF[!, :word])"
   ]
  },
  {
   "cell_type": "code",
   "execution_count": null,
   "id": "a478853f-cc68-4a6c-835a-32644bed269b",
   "metadata": {},
   "outputs": [],
   "source": [
    "uni = filter(:word => x -> x in [\"where\", \"state\", \"other\", \"child\", \"there\", \"their\", \"about\"], WORDLE_DF)\n",
    "solve_wordle(\"other\", uni)"
   ]
  },
  {
   "cell_type": "code",
   "execution_count": null,
   "id": "8fb4a621-ad88-47a4-80c5-00735fde2e91",
   "metadata": {},
   "outputs": [],
   "source": [
    "create_wordle_info(\"other\", \"child\")"
   ]
  },
  {
   "cell_type": "code",
   "execution_count": null,
   "id": "7d13ec10-0621-4e46-aae9-cb981da72494",
   "metadata": {},
   "outputs": [],
   "source": [
    "solve_wordle(\"child\", uni; chk_inputs=true)"
   ]
  },
  {
   "cell_type": "code",
   "execution_count": null,
   "id": "c0851145-d06b-4fc8-bfc7-59bc59a70465",
   "metadata": {},
   "outputs": [],
   "source": [
    "solve_wordle(\"otter\")"
   ]
  },
  {
   "cell_type": "code",
   "execution_count": null,
   "id": "5b836a0a-b229-4959-808e-0350d9b91e67",
   "metadata": {},
   "outputs": [],
   "source": [
    "solve_wordle(\"gamma\")"
   ]
  },
  {
   "cell_type": "code",
   "execution_count": null,
   "id": "9ec4e724-e8dc-4ff8-9524-19d2255fc8b5",
   "metadata": {},
   "outputs": [],
   "source": [
    "solve_wordle(\"windy\")"
   ]
  },
  {
   "cell_type": "code",
   "execution_count": null,
   "id": "246c7c19-183b-415a-8645-0b863f7b4463",
   "metadata": {},
   "outputs": [],
   "source": [
    "solve_wordle(\"donut\"; chk_inputs=true)"
   ]
  },
  {
   "cell_type": "code",
   "execution_count": null,
   "id": "73ff505f-d9a5-4df9-bfbc-308cc8c01c65",
   "metadata": {},
   "outputs": [],
   "source": [
    "solve_wordle(\"child\")"
   ]
  },
  {
   "cell_type": "code",
   "execution_count": null,
   "id": "2bdea1a1-913a-407b-9218-7457da2ef2ad",
   "metadata": {},
   "outputs": [],
   "source": [
    "solve_wordle(\"hobby\")"
   ]
  },
  {
   "cell_type": "code",
   "execution_count": null,
   "id": "9024fb90-c8e4-427d-ae14-34b45e882428",
   "metadata": {},
   "outputs": [],
   "source": [
    "solve_wordle(\"wrath\")"
   ]
  },
  {
   "cell_type": "code",
   "execution_count": null,
   "id": "0c849a3b-0a73-4486-beae-d00dcd9e2fd6",
   "metadata": {},
   "outputs": [],
   "source": [
    "solve_wordle(\"piano\")"
   ]
  },
  {
   "cell_type": "code",
   "execution_count": null,
   "id": "cc2fedff-c724-4019-861e-63007a96d1b4",
   "metadata": {},
   "outputs": [],
   "source": [
    "solve_wordle(\"pixel\")"
   ]
  },
  {
   "cell_type": "markdown",
   "id": "d9f87157-4065-4433-add2-d24af8d96883",
   "metadata": {},
   "source": [
    "#### Run Solver over all Puzzle Words"
   ]
  },
  {
   "cell_type": "code",
   "execution_count": null,
   "id": "23930497-b155-4a23-b84f-05313a0ac833",
   "metadata": {},
   "outputs": [],
   "source": [
    "words = WORDLE_DF[!, :word]\n",
    "freqs = WORDLE_DF[!, :freq]\n",
    "\n",
    "guess_len :: Vector{Int64}   = []\n",
    "freq_val  :: Vector{Float64} = []\n",
    "successes :: Vector{Symbol}  = []\n",
    "\n",
    "i = 0\n",
    "@time begin\n",
    "    for word in words\n",
    "        i += 1\n",
    "              \n",
    "        ## Use the default strategy -- pick most frequently used word in filtered Wordle universe.\n",
    "        res = solve_wordle(word; chk_inputs=true)\n",
    "        ## res = solve_wordle(word; chk_inputs=false, guess_strategy=freq_letter_strat) ## Don't check input contract and use a strategy to pick next guess.\n",
    "\n",
    "        ## Check for success or failure.\n",
    "        if res[3] === :SUCCESS\n",
    "            push!(guess_len, res[2]  )\n",
    "            push!(freq_val , freqs[i]) \n",
    "            push!(successes, res[3]  )\n",
    "        else\n",
    "            println(\"Failure for puzzle word = $word\")\n",
    "            print(res)\n",
    "            println(\"\\n\")\n",
    "        end\n",
    "    end\n",
    "end"
   ]
  },
  {
   "cell_type": "markdown",
   "id": "a939470b-2b41-4035-8ca0-91c0591541b6",
   "metadata": {},
   "source": [
    "#### Gather Statistics for Solver"
   ]
  },
  {
   "cell_type": "code",
   "execution_count": null,
   "id": "47dd6e98-5f50-4ddc-b9c8-9807b98f80b4",
   "metadata": {},
   "outputs": [],
   "source": [
    "println(\"Mean guesses          = $(round(mean(guess_len), digits=2))\")\n",
    "println(\"Weighted mean quesses = $(round(mean(guess_len, weights(freq_val)), digits=2))\")"
   ]
  },
  {
   "cell_type": "code",
   "execution_count": null,
   "id": "e535eb0f-967e-469b-816d-648debbaae80",
   "metadata": {},
   "outputs": [],
   "source": [
    "solve_wordle(\"folly\")"
   ]
  },
  {
   "cell_type": "code",
   "execution_count": null,
   "id": "575ecd7b-5d52-46e5-9ae7-e7e82dbd9a8b",
   "metadata": {},
   "outputs": [],
   "source": [
    "solve_wordle(\"cower\")"
   ]
  }
 ],
 "metadata": {
  "kernelspec": {
   "display_name": "Julia 1.10.0",
   "language": "julia",
   "name": "julia-1.10"
  },
  "language_info": {
   "file_extension": ".jl",
   "mimetype": "application/julia",
   "name": "julia",
   "version": "1.10.0"
  }
 },
 "nbformat": 4,
 "nbformat_minor": 5
}
