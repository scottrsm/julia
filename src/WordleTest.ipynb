{
 "cells": [
  {
   "cell_type": "markdown",
   "id": "f99555b9-37ae-4226-ae7d-c3570bf40817",
   "metadata": {},
   "source": [
    "### Strategy (solve_wordle)\n",
    "- Initial Conditions:\n",
    "  - Set puzzle_word\n",
    "  - X = Start with universe of 5 letter words along with freqency of usage.\n",
    "  - Set current_universe = X\n",
    "- Start\n",
    "  - Pick guess (pick the most frequent word in current_universe that we haven't picked previously)\n",
    "  - If guess == puzzle_word)\n",
    "    - Goto End\n",
    "  - Get wordle info about how close guess is to the correct word:\n",
    "    - wordle_info = create_wordle_info(<guess>, <puzzle_word>)\n",
    "      - Example wordle_info, create_wordle_info(\"exact\", \"crane\") = ( [('a', 3)], Dict('x' => (0, 0), 'c' => (1, 1), 'e' => (1, 1), 't' => (0, 0)) )\n",
    "  - Use this match info to filter existing universe.\n",
    "    - current_universe = filter_universe(wordle_info, current_universe)\n",
    "  - Goto Start\n",
    "- End\n",
    "    - Return guess "
   ]
  },
  {
   "cell_type": "markdown",
   "id": "68f507d6-e69f-44d8-80a9-b342a00a5dcc",
   "metadata": {},
   "source": [
    "### Environment\n",
    "- We assume that the server for this notebook has been launched at the top level for this project\n",
    "  as below we look for the Wordle database in the directory:  ENV[\"PWD\"] * \"/data/\" .\n",
    "- The Wordle database is a CSV file with schema: word, freq. Here.\n",
    "    - The values in the word column are strings assumed to match: r\"[a-z]{N}\", where N is a integer -- N is the same value for all rows.\n",
    "    - The items in the freq column are strings that represent floating point numbers. "
   ]
  },
  {
   "cell_type": "markdown",
   "id": "e3177858-062b-4a91-817c-e8395671b565",
   "metadata": {},
   "source": [
    "### Use/Import Packages"
   ]
  },
  {
   "cell_type": "code",
   "execution_count": 1,
   "id": "613f12e8-ef43-4eda-853e-1abf5f741107",
   "metadata": {},
   "outputs": [],
   "source": [
    "using DataFrames\n",
    "using StatsBase\n",
    "using Statistics\n",
    "using CSV\n",
    "import Wordle\n",
    "using Wordle: create_wordle_info, filter_universe, freq_letter_strat, solve_wordle"
   ]
  },
  {
   "cell_type": "markdown",
   "id": "eab0b669-d9c5-4770-9db8-bb1a9550296b",
   "metadata": {},
   "source": [
    "### Functions to Solve Wordle Puzzle"
   ]
  },
  {
   "cell_type": "markdown",
   "id": "cec0129f-a0f4-49aa-b4d8-29faa6ec3c7f",
   "metadata": {},
   "source": [
    "### Read in Wordle Words\n",
    "- Five letter words and their frequencies are stored in two files.\n",
    "- Read them in and create a DataFrame, then sort the words from most to least used.\n",
    "- Words and frequencies obtained from the Mathematica function WordFrequencyData."
   ]
  },
  {
   "cell_type": "markdown",
   "id": "133057ad-69c7-4748-9f5a-93b5cdaadd60",
   "metadata": {},
   "source": [
    "### Setup Wordle Database"
   ]
  },
  {
   "cell_type": "code",
   "execution_count": 2,
   "id": "015e265b-8727-4c11-80aa-17229643044e",
   "metadata": {},
   "outputs": [],
   "source": [
    "## Change this path to point to the wordle_db.csv path.\n",
    "## Load the Wordle database as a Dataframe with schema: word(5 letter lowercase word as String),freq(Relative frequency of word as Float64)\n",
    "const WORDLE_DF =  DataFrame(CSV.File(joinpath(dirname(pathof(Wordle)), \"../data\",  \"wordle_db.csv\"); header=6, types=[String7, Float64], comment=\"#\"));"
   ]
  },
  {
   "cell_type": "markdown",
   "id": "0d8ceda5-5d8c-41e0-b59b-d87eb2daaf60",
   "metadata": {},
   "source": [
    "### Testing"
   ]
  },
  {
   "cell_type": "code",
   "execution_count": 3,
   "id": "8f8c8630-aa9a-4b4d-9edc-29d323b57f1a",
   "metadata": {},
   "outputs": [
    {
     "data": {
      "text/plain": [
       "2-element Vector{String}:\n",
       " \"word\"\n",
       " \"freq\""
      ]
     },
     "execution_count": 3,
     "metadata": {},
     "output_type": "execute_result"
    }
   ],
   "source": [
    "names(WORDLE_DF)"
   ]
  },
  {
   "cell_type": "code",
   "execution_count": 4,
   "id": "dab35635-160c-4728-b48c-2301aa237df5",
   "metadata": {},
   "outputs": [
    {
     "data": {
      "text/plain": [
       "\"/home/rsm/proj/github/julia/pkgs/Wordle/src/Wordle.jl\""
      ]
     },
     "execution_count": 4,
     "metadata": {},
     "output_type": "execute_result"
    }
   ],
   "source": [
    "pathof(Wordle)"
   ]
  },
  {
   "cell_type": "code",
   "execution_count": 5,
   "id": "90dab976-a281-4a55-941b-3e7e673ddd5b",
   "metadata": {},
   "outputs": [
    {
     "data": {
      "text/plain": [
       "([('a', 3), ('e', -1), ('c', -4)], Dict('x' => (0, 0), 'c' => (1, 1), 'e' => (1, 1), 't' => (0, 0)))"
      ]
     },
     "execution_count": 5,
     "metadata": {},
     "output_type": "execute_result"
    }
   ],
   "source": [
    "create_wordle_info(\"exact\", \"crane\")"
   ]
  },
  {
   "cell_type": "code",
   "execution_count": 6,
   "id": "96d67233-063e-4d88-936e-4f6ba83a492e",
   "metadata": {},
   "outputs": [
    {
     "name": "stdout",
     "output_type": "stream",
     "text": [
      "[('t', 1), ('h', 2), ('e', 3), ('r', -4)]\n",
      "Dict('r' => (1, 1), 'e' => (0, 0))\n"
     ]
    }
   ],
   "source": [
    "(info, d) = create_wordle_info(\"there\", \"their\")\n",
    "println(info)\n",
    "println(d)"
   ]
  },
  {
   "cell_type": "code",
   "execution_count": 7,
   "id": "7c91ba5e-9ba7-4c62-9387-0fe0f25b037e",
   "metadata": {},
   "outputs": [
    {
     "data": {
      "text/plain": [
       "1-element Vector{String7}:\n",
       " \"their\""
      ]
     },
     "execution_count": 7,
     "metadata": {},
     "output_type": "execute_result"
    }
   ],
   "source": [
    "filter_universe((info, d), WORDLE_DF[!, :word])"
   ]
  },
  {
   "cell_type": "code",
   "execution_count": 8,
   "id": "a478853f-cc68-4a6c-835a-32644bed269b",
   "metadata": {},
   "outputs": [
    {
     "data": {
      "text/plain": [
       "(Any[(\"trace\", [('t', -1), ('r', -2), ('e', -5)], 7), (\"their\", [('r', 5), ('t', -1), ('h', -2), ('e', -3)], 3)], 3, :SUCCESS)"
      ]
     },
     "execution_count": 8,
     "metadata": {},
     "output_type": "execute_result"
    }
   ],
   "source": [
    "uni = filter(:word => x -> x in [\"where\", \"state\", \"other\", \"child\", \"there\", \"their\", \"about\"], WORDLE_DF)\n",
    "solve_wordle(\"other\", uni)"
   ]
  },
  {
   "cell_type": "code",
   "execution_count": 9,
   "id": "8fb4a621-ad88-47a4-80c5-00735fde2e91",
   "metadata": {},
   "outputs": [
    {
     "data": {
      "text/plain": [
       "([('h', -3)], Dict('h' => (1, 1), 't' => (0, 0), 'e' => (0, 0), 'o' => (0, 0), 'r' => (0, 0)))"
      ]
     },
     "execution_count": 9,
     "metadata": {},
     "output_type": "execute_result"
    }
   ],
   "source": [
    "create_wordle_info(\"other\", \"child\")"
   ]
  },
  {
   "cell_type": "code",
   "execution_count": 10,
   "id": "7d13ec10-0621-4e46-aae9-cb981da72494",
   "metadata": {},
   "outputs": [
    {
     "data": {
      "text/plain": [
       "(Any[(\"trace\", [('c', -4)], 7)], 2, :SUCCESS)"
      ]
     },
     "execution_count": 10,
     "metadata": {},
     "output_type": "execute_result"
    }
   ],
   "source": [
    "solve_wordle(\"child\", uni; chk_inputs=true)"
   ]
  },
  {
   "cell_type": "code",
   "execution_count": 11,
   "id": "c0851145-d06b-4fc8-bfc7-59bc59a70465",
   "metadata": {},
   "outputs": [
    {
     "data": {
      "text/plain": [
       "(Any[(\"trace\", [('t', -1), ('r', -2), ('e', -5)], 3585), (\"their\", [('r', 5), ('t', -1), ('e', -3)], 83), (\"enter\", [('t', 3), ('e', 4), ('r', 5)], 18), (\"outer\", [('o', 1), ('t', 3), ('e', 4), ('r', 5)], 6)], 5, :SUCCESS)"
      ]
     },
     "execution_count": 11,
     "metadata": {},
     "output_type": "execute_result"
    }
   ],
   "source": [
    "solve_wordle(\"otter\")"
   ]
  },
  {
   "cell_type": "code",
   "execution_count": 12,
   "id": "5b836a0a-b229-4959-808e-0350d9b91e67",
   "metadata": {},
   "outputs": [
    {
     "data": {
      "text/plain": [
       "(Any[(\"trace\", [('a', -3)], 3585), (\"among\", [('a', -1), ('m', -2), ('g', -5)], 232), (\"gamma\", [('g', 1), ('a', 2), ('m', 3), ('m', 4), ('a', 5)], 5)], 3, :SUCCESS)"
      ]
     },
     "execution_count": 12,
     "metadata": {},
     "output_type": "execute_result"
    }
   ],
   "source": [
    "solve_wordle(\"gamma\")"
   ]
  },
  {
   "cell_type": "code",
   "execution_count": 13,
   "id": "9ec4e724-e8dc-4ff8-9524-19d2255fc8b5",
   "metadata": {},
   "outputs": [
    {
     "data": {
      "text/plain": [
       "(Any[(\"trace\", Tuple{Char, Int64}[], 3585), (\"found\", [('n', -4), ('d', -5)], 380), (\"dying\", [('d', -1), ('y', -2), ('i', -3), ('n', -4)], 6), (\"windy\", [('w', 1), ('i', 2), ('n', 3), ('d', 4), ('y', 5)], 2)], 4, :SUCCESS)"
      ]
     },
     "execution_count": 13,
     "metadata": {},
     "output_type": "execute_result"
    }
   ],
   "source": [
    "solve_wordle(\"windy\")"
   ]
  },
  {
   "cell_type": "code",
   "execution_count": 14,
   "id": "246c7c19-183b-415a-8645-0b863f7b4463",
   "metadata": {},
   "outputs": [
    {
     "data": {
      "text/plain": [
       "(Any[(\"trace\", [('t', -1)], 3585), (\"might\", [('t', 5)], 150), (\"doubt\", [('d', 1), ('o', 2), ('t', 5), ('u', -3)], 12)], 4, :SUCCESS)"
      ]
     },
     "execution_count": 14,
     "metadata": {},
     "output_type": "execute_result"
    }
   ],
   "source": [
    "solve_wordle(\"donut\"; chk_inputs=true)"
   ]
  },
  {
   "cell_type": "code",
   "execution_count": 15,
   "id": "73ff505f-d9a5-4df9-bfbc-308cc8c01c65",
   "metadata": {},
   "outputs": [
    {
     "data": {
      "text/plain": [
       "(Any[(\"trace\", [('c', -4)], 3585), (\"child\", [('c', 1), ('h', 2), ('i', 3), ('l', 4), ('d', 5)], 81)], 2, :SUCCESS)"
      ]
     },
     "execution_count": 15,
     "metadata": {},
     "output_type": "execute_result"
    }
   ],
   "source": [
    "solve_wordle(\"child\")"
   ]
  },
  {
   "cell_type": "code",
   "execution_count": 16,
   "id": "2bdea1a1-913a-407b-9218-7457da2ef2ad",
   "metadata": {},
   "outputs": [
    {
     "data": {
      "text/plain": [
       "(Any[(\"trace\", Tuple{Char, Int64}[], 3585), (\"found\", [('o', 2)], 380), (\"bosom\", [('o', 2), ('b', -1)], 33), (\"lobby\", [('o', 2), ('b', 3), ('b', 4), ('y', 5)], 2)], 5, :SUCCESS)"
      ]
     },
     "execution_count": 16,
     "metadata": {},
     "output_type": "execute_result"
    }
   ],
   "source": [
    "solve_wordle(\"hobby\")"
   ]
  },
  {
   "cell_type": "code",
   "execution_count": 17,
   "id": "9024fb90-c8e4-427d-ae14-34b45e882428",
   "metadata": {},
   "outputs": [
    {
     "data": {
      "text/plain": [
       "(Any[(\"trace\", [('r', 2), ('a', 3), ('t', -1)], 3585), (\"grant\", [('r', 2), ('a', 3), ('t', -5)], 5)], 3, :SUCCESS)"
      ]
     },
     "execution_count": 17,
     "metadata": {},
     "output_type": "execute_result"
    }
   ],
   "source": [
    "solve_wordle(\"wrath\")"
   ]
  },
  {
   "cell_type": "code",
   "execution_count": 18,
   "id": "0c849a3b-0a73-4486-beae-d00dcd9e2fd6",
   "metadata": {},
   "outputs": [
    {
     "data": {
      "text/plain": [
       "(Any[(\"trace\", [('a', 3)], 3585), (\"small\", [('a', 3)], 67), (\"again\", [('a', 3), ('i', -4), ('n', -5)], 10), (\"piano\", [('p', 1), ('i', 2), ('a', 3), ('n', 4), ('o', 5)], 2)], 4, :SUCCESS)"
      ]
     },
     "execution_count": 18,
     "metadata": {},
     "output_type": "execute_result"
    }
   ],
   "source": [
    "solve_wordle(\"piano\")"
   ]
  },
  {
   "cell_type": "code",
   "execution_count": 19,
   "id": "cc2fedff-c724-4019-861e-63007a96d1b4",
   "metadata": {},
   "outputs": [
    {
     "data": {
      "text/plain": [
       "(Any[(\"trace\", [('e', -5)], 3585), (\"being\", [('e', -2), ('i', -3)], 313), (\"field\", [('i', 2), ('e', -3), ('l', -4)], 50), (\"piles\", [('p', 1), ('i', 2), ('e', 4), ('l', -3)], 3)], 5, :SUCCESS)"
      ]
     },
     "execution_count": 19,
     "metadata": {},
     "output_type": "execute_result"
    }
   ],
   "source": [
    "solve_wordle(\"pixel\")"
   ]
  },
  {
   "cell_type": "code",
   "execution_count": 20,
   "id": "7e09793a-89c9-462d-915a-a3f129935e71",
   "metadata": {},
   "outputs": [
    {
     "data": {
      "text/plain": [
       "(Any[(\"trace\", [('t', -1), ('e', -5)], 3585), (\"often\", [('o', 1), ('f', 2), ('t', 3), ('e', 4), ('n', 5)], 147)], 2, :SUCCESS)"
      ]
     },
     "execution_count": 20,
     "metadata": {},
     "output_type": "execute_result"
    }
   ],
   "source": [
    "solve_wordle(\"often\")"
   ]
  },
  {
   "cell_type": "code",
   "execution_count": 21,
   "id": "cfb07a0a-fd11-4591-9c9d-fb44cebc804b",
   "metadata": {},
   "outputs": [
    {
     "data": {
      "text/plain": [
       "(Any[(\"trace\", [('e', 5)], 3585), (\"while\", [('e', 5)], 137), (\"sense\", [('s', 1), ('e', 2), ('n', 3), ('s', 4), ('e', 5)], 39)], 3, :SUCCESS)"
      ]
     },
     "execution_count": 21,
     "metadata": {},
     "output_type": "execute_result"
    }
   ],
   "source": [
    "solve_wordle(\"sense\")"
   ]
  },
  {
   "cell_type": "markdown",
   "id": "d9f87157-4065-4433-add2-d24af8d96883",
   "metadata": {},
   "source": [
    "#### Run Solver over all Puzzle Words"
   ]
  },
  {
   "cell_type": "code",
   "execution_count": 22,
   "id": "23930497-b155-4a23-b84f-05313a0ac833",
   "metadata": {},
   "outputs": [
    {
     "name": "stdout",
     "output_type": "stream",
     "text": [
      "  6.949119 seconds (187.02 M allocations: 9.411 GiB, 10.11% gc time, 1.77% compilation time)\n"
     ]
    }
   ],
   "source": [
    "words = WORDLE_DF[!, :word]\n",
    "freqs = WORDLE_DF[!, :freq]\n",
    "\n",
    "guess_len :: Vector{Int64}   = []\n",
    "freq_val  :: Vector{Float64} = []\n",
    "successes :: Vector{Symbol}  = []\n",
    "\n",
    "i = 0\n",
    "@time begin\n",
    "    for word in words\n",
    "        i += 1\n",
    "              \n",
    "        ## Use the default strategy -- pick most frequently used word in filtered Wordle universe.\n",
    "        res = solve_wordle(word; chk_inputs=true)\n",
    "        ## res = solve_wordle(word; chk_inputs=false, guess_strategy=freq_letter_strat) ## Don't check input contract and use a strategy to pick next guess.\n",
    "\n",
    "        ## Check for success or failure.\n",
    "        if res[3] === :SUCCESS\n",
    "            push!(guess_len, res[2]  )\n",
    "            push!(freq_val , freqs[i]) \n",
    "            push!(successes, res[3]  )\n",
    "        else\n",
    "            println(\"Failure for puzzle word = $word\")\n",
    "            print(res)\n",
    "            println(\"\\n\")\n",
    "        end\n",
    "    end\n",
    "end"
   ]
  },
  {
   "cell_type": "markdown",
   "id": "a939470b-2b41-4035-8ca0-91c0591541b6",
   "metadata": {},
   "source": [
    "#### Gather Statistics for Solver"
   ]
  },
  {
   "cell_type": "code",
   "execution_count": 23,
   "id": "47dd6e98-5f50-4ddc-b9c8-9807b98f80b4",
   "metadata": {},
   "outputs": [
    {
     "name": "stdout",
     "output_type": "stream",
     "text": [
      "Mean guesses          = 4.31\n",
      "Weighted mean quesses = 2.81\n"
     ]
    }
   ],
   "source": [
    "println(\"Mean guesses          = $(round(mean(guess_len), digits=2))\")\n",
    "println(\"Weighted mean quesses = $(round(mean(guess_len, weights(freq_val)), digits=2))\")"
   ]
  },
  {
   "cell_type": "code",
   "execution_count": 24,
   "id": "e535eb0f-967e-469b-816d-648debbaae80",
   "metadata": {},
   "outputs": [
    {
     "data": {
      "text/plain": [
       "(Any[(\"trace\", Tuple{Char, Int64}[], 3585), (\"found\", [('f', 1), ('o', 2)], 380), (\"folks\", [('f', 1), ('o', 2), ('l', 3)], 4), (\"folly\", [('f', 1), ('o', 2), ('l', 3), ('l', 4), ('y', 5)], 2)], 4, :SUCCESS)"
      ]
     },
     "execution_count": 24,
     "metadata": {},
     "output_type": "execute_result"
    }
   ],
   "source": [
    "solve_wordle(\"folly\")"
   ]
  },
  {
   "cell_type": "code",
   "execution_count": 25,
   "id": "9fcabb04-efe6-4edb-aec2-c06463e9a1ff",
   "metadata": {},
   "outputs": [
    {
     "data": {
      "text/plain": [
       "(Any[(\"trace\", [('r', -2), ('c', -4), ('e', -5)], 3585), (\"force\", [('o', 2), ('r', -3), ('c', -4), ('e', -5)], 51), (\"cover\", [('c', 1), ('o', 2), ('e', 4), ('r', 5)], 7), (\"comer\", [('c', 1), ('o', 2), ('e', 4), ('r', 5)], 5), (\"coder\", [('c', 1), ('o', 2), ('e', 4), ('r', 5)], 4), (\"cower\", [('c', 1), ('o', 2), ('w', 3), ('e', 4), ('r', 5)], 3)], 6, :SUCCESS)"
      ]
     },
     "execution_count": 25,
     "metadata": {},
     "output_type": "execute_result"
    }
   ],
   "source": [
    "solve_wordle(\"cower\")"
   ]
  },
  {
   "cell_type": "code",
   "execution_count": null,
   "id": "8ed11088-5f36-48ba-9f76-036b800a1eb8",
   "metadata": {},
   "outputs": [],
   "source": []
  }
 ],
 "metadata": {
  "kernelspec": {
   "display_name": "Julia 1.10.0",
   "language": "julia",
   "name": "julia-1.10"
  },
  "language_info": {
   "file_extension": ".jl",
   "mimetype": "application/julia",
   "name": "julia",
   "version": "1.10.2"
  }
 },
 "nbformat": 4,
 "nbformat_minor": 5
}
