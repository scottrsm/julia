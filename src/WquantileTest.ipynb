{
 "cells": [
  {
   "cell_type": "markdown",
   "id": "f0232488-ae38-4352-9dd7-2d7f7a3e5bdc",
   "metadata": {},
   "source": [
    "## Set up Project"
   ]
  },
  {
   "cell_type": "code",
   "execution_count": 1,
   "id": "86346457-d7a7-4e5c-84ef-58f17b8c9bcc",
   "metadata": {},
   "outputs": [],
   "source": [
    "using BenchmarkTools\n",
    "using Wquantiles"
   ]
  },
  {
   "cell_type": "markdown",
   "id": "f049cfea-9416-4251-914e-37573f48af91",
   "metadata": {},
   "source": [
    "## Using Quantile Functions with Differing Types"
   ]
  },
  {
   "cell_type": "markdown",
   "id": "f72736c8-6385-423f-98cb-b8987633ab99",
   "metadata": {},
   "source": [
    "Wquantile([1 2; 3 4; 5 6; 7 8; 9 10; 11 14; 15 32; 7 4; 9 10; 11 21], [1, 1, 2, 1, 1, 2, 1, 3, 5, 1], [0.25, 0.5, 0.6, 0.75])"
   ]
  },
  {
   "cell_type": "code",
   "execution_count": 2,
   "id": "5189e54a-be99-4686-98df-195b6e414778",
   "metadata": {},
   "outputs": [
    {
     "data": {
      "text/plain": [
       "4-element Vector{UInt8}:\n",
       " 0x07\n",
       " 0x09\n",
       " 0x0b\n",
       " 0x0b"
      ]
     },
     "execution_count": 2,
     "metadata": {},
     "output_type": "execute_result"
    }
   ],
   "source": [
    "wquantile(UInt8[1,3,5,7,9,11,15,7,9,11], [1,1,2,1,1,2,1,3,5,1], [0.25, 0.5, 0.6, 0.75])"
   ]
  },
  {
   "cell_type": "code",
   "execution_count": 3,
   "id": "d11202cf-d2bf-446c-b291-d212f49d4f8b",
   "metadata": {},
   "outputs": [
    {
     "data": {
      "text/plain": [
       "4-element Vector{Int64}:\n",
       "  6\n",
       " 10\n",
       " 14\n",
       " 14"
      ]
     },
     "execution_count": 3,
     "metadata": {},
     "output_type": "execute_result"
    }
   ],
   "source": [
    "wquantile([2,4,6,8,10,14,32,4,10,21], [1,1,2,1,1,2,1,3,5,1], [0.25, 0.5, 0.6, 0.75])"
   ]
  },
  {
   "cell_type": "code",
   "execution_count": 4,
   "id": "44c65099-a46a-4709-8ab2-cf7caa9ec40c",
   "metadata": {},
   "outputs": [
    {
     "data": {
      "text/plain": [
       "4-element Vector{UInt8}:\n",
       " 0x05\n",
       " 0x08\n",
       " 0x09\n",
       " 0x0a"
      ]
     },
     "execution_count": 4,
     "metadata": {},
     "output_type": "execute_result"
    }
   ],
   "source": [
    "wquantile(UInt8[1,2,3,4,5,6,7,8,9,10], [1, 1, 2, 1, 1, 2, 1, 3, 5, 1], [0.25, 0.5, 0.6, 0.75])"
   ]
  },
  {
   "cell_type": "code",
   "execution_count": 5,
   "id": "e713e5df-e543-41f8-9a8e-3524e93ded0d",
   "metadata": {},
   "outputs": [
    {
     "data": {
      "text/plain": [
       "4-element Vector{UInt8}:\n",
       " 0x05\n",
       " 0x08\n",
       " 0x09\n",
       " 0x0a"
      ]
     },
     "execution_count": 5,
     "metadata": {},
     "output_type": "execute_result"
    }
   ],
   "source": [
    "wquantile(UInt8[1,2,3,4,5,6,7,8,9,10], [1, 1, 2, 1, 1, 2, 1, 3, 5, 1], [0.25, 0.5, 0.6, 0.75])"
   ]
  },
  {
   "cell_type": "markdown",
   "id": "1a2cb2e3-6452-43bb-8325-5bc9f4266cb4",
   "metadata": {},
   "source": [
    "## Test Performance of Quantile Functions"
   ]
  },
  {
   "cell_type": "code",
   "execution_count": 6,
   "id": "5509cd87-ad2a-4774-9a09-bd4d82453c5f",
   "metadata": {},
   "outputs": [
    {
     "name": "stdout",
     "output_type": "stream",
     "text": [
      "  409.690 ns (14 allocations: 1.41 KiB)\n"
     ]
    },
    {
     "data": {
      "text/plain": [
       "4-element Vector{Int64}:\n",
       "  4\n",
       "  7\n",
       "  9\n",
       " 10"
      ]
     },
     "execution_count": 6,
     "metadata": {},
     "output_type": "execute_result"
    }
   ],
   "source": [
    "@btime wquantile([1,2,3,4,5,6,7,8,9,10], [1, 1, 2, 1, 1, 2, 1, 1, 5, 1], [0.25, 0.5, 0.6, 0.75])"
   ]
  },
  {
   "cell_type": "code",
   "execution_count": 7,
   "id": "bfe7841b-1fb5-4e3a-bd72-c3a226ed302b",
   "metadata": {},
   "outputs": [
    {
     "name": "stdout",
     "output_type": "stream",
     "text": [
      "Min xx = 0.00018231354889852724\n",
      "Max xx = 0.9999867733983173\n",
      "  24.062 μs (12 allocations: 36.67 KiB)\n"
     ]
    },
    {
     "data": {
      "text/plain": [
       "10-element Vector{Float64}:\n",
       " 0.00018231354889852724\n",
       " 0.08304788516602968\n",
       " 0.12282526581567232\n",
       " 0.2117282341724166\n",
       " 0.5662221462807308\n",
       " 0.6189234888999643\n",
       " 0.7199337301998084\n",
       " 0.8857760399091509\n",
       " 0.94027531623847\n",
       " 0.9999867733983173"
      ]
     },
     "execution_count": 7,
     "metadata": {},
     "output_type": "execute_result"
    }
   ],
   "source": [
    "xx = rand(1000)\n",
    "ww = abs.(rand(1000))\n",
    "qq = [0.0, 0.1, 0.15, 0.25, 0.6, 0.65, 0.75, 0.9, 0.95, 1.0]\n",
    "qq = [0.0, 0.15, 0.25, 0.1, 0.65, 0.6, 0.9, 0.75, 0.95, 1.0]\n",
    "println(\"Min xx = $(minimum(xx))\")\n",
    "println(\"Max xx = $(maximum(xx))\")\n",
    "@btime wquantile(xx, ww, qq; chk=true) "
   ]
  },
  {
   "cell_type": "code",
   "execution_count": 8,
   "id": "2c3563c3-b385-4217-a944-9b065e167e51",
   "metadata": {},
   "outputs": [
    {
     "data": {
      "text/plain": [
       "10-element Vector{Float64}:\n",
       " 0.0\n",
       " 0.1\n",
       " 0.15\n",
       " 0.25\n",
       " 0.6\n",
       " 0.65\n",
       " 0.75\n",
       " 0.9\n",
       " 0.95\n",
       " 1.0"
      ]
     },
     "execution_count": 8,
     "metadata": {},
     "output_type": "execute_result"
    }
   ],
   "source": [
    "XX = rand(10000, 500)\n",
    "ww = abs.(rand(10000))\n",
    "qq = [0.0, 0.1, 0.15, 0.25, 0.6, 0.65, 0.75, 0.9, 0.95, 1.0]"
   ]
  },
  {
   "cell_type": "code",
   "execution_count": 9,
   "id": "fc8358a6-c296-4672-a510-e74c99da41b1",
   "metadata": {},
   "outputs": [
    {
     "name": "stdout",
     "output_type": "stream",
     "text": [
      "Min xx = 5.567887206847644e-8\n",
      "Max xx = 0.999999605906421\n"
     ]
    }
   ],
   "source": [
    "println(\"Min xx = $(minimum(XX))\")\n",
    "println(\"Max xx = $(maximum(XX))\")"
   ]
  },
  {
   "cell_type": "code",
   "execution_count": 12,
   "id": "d99e0c6d-8643-41bd-bb1a-1e183b0267d1",
   "metadata": {},
   "outputs": [
    {
     "name": "stdout",
     "output_type": "stream",
     "text": [
      "  39.710 ms (8784 allocations: 191.16 MiB)\n"
     ]
    },
    {
     "data": {
      "text/plain": [
       "10×500 Matrix{Float64}:\n",
       " 0.000125912  3.96732e-5  0.000251792  …  1.12335e-5  2.40704e-5  0.000272487\n",
       " 0.101438     0.102493    0.095962        0.100461    0.0965333   0.099563\n",
       " 0.150045     0.150532    0.149234        0.151619    0.150704    0.150275\n",
       " 0.247114     0.255014    0.25123         0.254841    0.246956    0.250277\n",
       " 0.597569     0.599782    0.606599        0.607671    0.602605    0.603272\n",
       " 0.648916     0.649637    0.653914     …  0.659318    0.652976    0.650109\n",
       " 0.751883     0.744484    0.753978        0.754846    0.748435    0.753746\n",
       " 0.902718     0.896205    0.900363        0.899899    0.896164    0.898482\n",
       " 0.949315     0.94778     0.949298        0.951811    0.948976    0.948872\n",
       " 0.999946     0.999875    0.999988        0.999864    0.99991     0.999892"
      ]
     },
     "execution_count": 12,
     "metadata": {},
     "output_type": "execute_result"
    }
   ],
   "source": [
    "@btime wquantile(XX, ww, qq)"
   ]
  },
  {
   "cell_type": "code",
   "execution_count": 14,
   "id": "14121fce-80b2-43f7-a425-469356f9b48f",
   "metadata": {},
   "outputs": [
    {
     "data": {
      "text/plain": [
       "(10000, 500)"
      ]
     },
     "execution_count": 14,
     "metadata": {},
     "output_type": "execute_result"
    }
   ],
   "source": [
    "size(XX)"
   ]
  },
  {
   "cell_type": "code",
   "execution_count": 23,
   "id": "dfe94d86-6df8-4267-82a2-eae2e8e3f0d6",
   "metadata": {},
   "outputs": [
    {
     "data": {
      "text/plain": [
       "10000×500 Matrix{Float64}:\n",
       " 7.06754e-5   7.06754e-5   7.06754e-5   …  7.06754e-5   7.06754e-5\n",
       " 8.40257e-5   8.40257e-5   8.40257e-5      8.40257e-5   8.40257e-5\n",
       " 0.000100783  0.000100783  0.000100783     0.000100783  0.000100783\n",
       " 8.05404e-5   8.05404e-5   8.05404e-5      8.05404e-5   8.05404e-5\n",
       " 0.000110108  0.000110108  0.000110108     0.000110108  0.000110108\n",
       " 0.000161535  0.000161535  0.000161535  …  0.000161535  0.000161535\n",
       " 6.70603e-5   6.70603e-5   6.70603e-5      6.70603e-5   6.70603e-5\n",
       " 0.000151695  0.000151695  0.000151695     0.000151695  0.000151695\n",
       " 1.0416e-5    1.0416e-5    1.0416e-5       1.0416e-5    1.0416e-5\n",
       " 0.000126103  0.000126103  0.000126103     0.000126103  0.000126103\n",
       " 0.000117724  0.000117724  0.000117724  …  0.000117724  0.000117724\n",
       " 7.61533e-5   7.61533e-5   7.61533e-5      7.61533e-5   7.61533e-5\n",
       " 0.000113345  0.000113345  0.000113345     0.000113345  0.000113345\n",
       " ⋮                                      ⋱               \n",
       " 8.81319e-5   8.81319e-5   8.81319e-5      8.81319e-5   8.81319e-5\n",
       " 3.31707e-5   3.31707e-5   3.31707e-5      3.31707e-5   3.31707e-5\n",
       " 6.94374e-5   6.94374e-5   6.94374e-5   …  6.94374e-5   6.94374e-5\n",
       " 0.000108774  0.000108774  0.000108774     0.000108774  0.000108774\n",
       " 0.000126596  0.000126596  0.000126596     0.000126596  0.000126596\n",
       " 0.000122572  0.000122572  0.000122572     0.000122572  0.000122572\n",
       " 0.000112324  0.000112324  0.000112324     0.000112324  0.000112324\n",
       " 0.000159288  0.000159288  0.000159288  …  0.000159288  0.000159288\n",
       " 6.16555e-5   6.16555e-5   6.16555e-5      6.16555e-5   6.16555e-5\n",
       " 0.00017045   0.00017045   0.00017045      0.00017045   0.00017045\n",
       " 4.63689e-5   4.63689e-5   4.63689e-5      4.63689e-5   4.63689e-5\n",
       " 4.86684e-5   4.86684e-5   4.86684e-5      4.86684e-5   4.86684e-5"
      ]
     },
     "execution_count": 23,
     "metadata": {},
     "output_type": "execute_result"
    }
   ],
   "source": [
    "W = reshape(repeat(ww, 500), (10000, 500))"
   ]
  },
  {
   "cell_type": "code",
   "execution_count": 24,
   "id": "f3df05a1-660e-45f9-aa3c-8dee4b1e0660",
   "metadata": {},
   "outputs": [
    {
     "name": "stdout",
     "output_type": "stream",
     "text": [
      "  268.577 ms (1029 allocations: 191.46 MiB)\n"
     ]
    },
    {
     "data": {
      "text/plain": [
       "10×500 Matrix{Float64}:\n",
       " 0.000125912  3.96732e-5  0.000251792  …  1.12335e-5  2.40704e-5  0.000272487\n",
       " 0.101438     0.102493    0.095962        0.100461    0.0965333   0.099563\n",
       " 0.150045     0.150532    0.149234        0.151619    0.150704    0.150275\n",
       " 0.247114     0.255014    0.25123         0.254841    0.246956    0.250277\n",
       " 0.597569     0.599782    0.606599        0.607671    0.602605    0.603272\n",
       " 0.648916     0.649637    0.653914     …  0.659318    0.652976    0.650109\n",
       " 0.751883     0.744484    0.753978        0.754846    0.748435    0.753746\n",
       " 0.902718     0.896205    0.900363        0.899899    0.896164    0.898482\n",
       " 0.949315     0.94778     0.949298        0.951811    0.948976    0.948872\n",
       " 0.999946     0.999875    0.999988        0.999864    0.99991     0.999892"
      ]
     },
     "execution_count": 24,
     "metadata": {},
     "output_type": "execute_result"
    }
   ],
   "source": [
    "@btime wquantile(XX, W, qq)"
   ]
  },
  {
   "cell_type": "code",
   "execution_count": null,
   "id": "3598d210-22d1-4167-8a2b-9687b85431d0",
   "metadata": {},
   "outputs": [],
   "source": []
  }
 ],
 "metadata": {
  "kernelspec": {
   "display_name": "Julia 1.9.4",
   "language": "julia",
   "name": "julia-1.9"
  },
  "language_info": {
   "file_extension": ".jl",
   "mimetype": "application/julia",
   "name": "julia",
   "version": "1.9.4"
  }
 },
 "nbformat": 4,
 "nbformat_minor": 5
}
