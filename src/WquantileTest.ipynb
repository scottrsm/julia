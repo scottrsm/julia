{
 "cells": [
  {
   "cell_type": "markdown",
   "id": "f0232488-ae38-4352-9dd7-2d7f7a3e5bdc",
   "metadata": {},
   "source": [
    "## Set up Project"
   ]
  },
  {
   "cell_type": "code",
   "execution_count": null,
   "id": "86346457-d7a7-4e5c-84ef-58f17b8c9bcc",
   "metadata": {},
   "outputs": [],
   "source": [
    "using BenchmarkTools\n",
    "using Wquantiles"
   ]
  },
  {
   "cell_type": "markdown",
   "id": "f049cfea-9416-4251-914e-37573f48af91",
   "metadata": {},
   "source": [
    "## Using Quantile Functions with Differing Types"
   ]
  },
  {
   "cell_type": "markdown",
   "id": "f72736c8-6385-423f-98cb-b8987633ab99",
   "metadata": {},
   "source": [
    "Wquantile([1 2; 3 4; 5 6; 7 8; 9 10; 11 14; 15 32; 7 4; 9 10; 11 21], [1, 1, 2, 1, 1, 2, 1, 3, 5, 1], [0.25, 0.5, 0.6, 0.75])"
   ]
  },
  {
   "cell_type": "code",
   "execution_count": null,
   "id": "5189e54a-be99-4686-98df-195b6e414778",
   "metadata": {},
   "outputs": [],
   "source": [
    "wquantile(UInt8[1,3,5,7,9,11,15,7,9,11], [1,1,2,1,1,2,1,3,5,1], [0.25, 0.5, 0.6, 0.75])"
   ]
  },
  {
   "cell_type": "code",
   "execution_count": null,
   "id": "d11202cf-d2bf-446c-b291-d212f49d4f8b",
   "metadata": {},
   "outputs": [],
   "source": [
    "wquantile([2,4,6,8,10,14,32,4,10,21], [1,1,2,1,1,2,1,3,5,1], [0.25, 0.5, 0.6, 0.75])"
   ]
  },
  {
   "cell_type": "code",
   "execution_count": null,
   "id": "44c65099-a46a-4709-8ab2-cf7caa9ec40c",
   "metadata": {},
   "outputs": [],
   "source": [
    "wquantile(UInt8[1,2,3,4,5,6,7,8,9,10], [1, 1, 2, 1, 1, 2, 1, 3, 5, 1], [0.25, 0.5, 0.6, 0.75])"
   ]
  },
  {
   "cell_type": "code",
   "execution_count": null,
   "id": "e713e5df-e543-41f8-9a8e-3524e93ded0d",
   "metadata": {},
   "outputs": [],
   "source": [
    "wquantile(UInt8[1,2,3,4,5,6,7,8,9,10], [1, 1, 2, 1, 1, 2, 1, 3, 5, 1], [0.25, 0.5, 0.6, 0.75])"
   ]
  },
  {
   "cell_type": "markdown",
   "id": "1a2cb2e3-6452-43bb-8325-5bc9f4266cb4",
   "metadata": {},
   "source": [
    "## Test Performance of Quantile Functions"
   ]
  },
  {
   "cell_type": "code",
   "execution_count": null,
   "id": "5509cd87-ad2a-4774-9a09-bd4d82453c5f",
   "metadata": {},
   "outputs": [],
   "source": [
    "@btime wquantile([1,2,3,4,5,6,7,8,9,10], [1, 1, 2, 1, 1, 2, 1, 1, 5, 1], [0.25, 0.5, 0.6, 0.75])"
   ]
  },
  {
   "cell_type": "code",
   "execution_count": null,
   "id": "bfe7841b-1fb5-4e3a-bd72-c3a226ed302b",
   "metadata": {},
   "outputs": [],
   "source": [
    "xx = rand(1000)\n",
    "ww = abs.(rand(1000))\n",
    "qq = [0.0, 0.1, 0.15, 0.25, 0.6, 0.65, 0.75, 0.9, 0.95, 1.0]\n",
    "qq = [0.0, 0.15, 0.25, 0.1, 0.65, 0.6, 0.9, 0.75, 0.95, 1.0]\n",
    "println(\"Min xx = $(minimum(xx))\")\n",
    "println(\"Max xx = $(maximum(xx))\")\n",
    "@btime wquantile(xx, ww, qq; chk=true) "
   ]
  },
  {
   "cell_type": "code",
   "execution_count": null,
   "id": "2c3563c3-b385-4217-a944-9b065e167e51",
   "metadata": {},
   "outputs": [],
   "source": [
    "XX = rand(10000, 500)\n",
    "ww = abs.(rand(10000))\n",
    "qq = [0.0, 0.1, 0.15, 0.25, 0.6, 0.65, 0.75, 0.9, 0.95, 1.0]"
   ]
  },
  {
   "cell_type": "code",
   "execution_count": null,
   "id": "fc8358a6-c296-4672-a510-e74c99da41b1",
   "metadata": {},
   "outputs": [],
   "source": [
    "println(\"Min xx = $(minimum(XX))\")\n",
    "println(\"Max xx = $(maximum(XX))\")"
   ]
  },
  {
   "cell_type": "code",
   "execution_count": null,
   "id": "d99e0c6d-8643-41bd-bb1a-1e183b0267d1",
   "metadata": {},
   "outputs": [],
   "source": [
    "@btime wquantile(XX, ww, qq)"
   ]
  },
  {
   "cell_type": "code",
   "execution_count": null,
   "id": "dfe94d86-6df8-4267-82a2-eae2e8e3f0d6",
   "metadata": {},
   "outputs": [],
   "source": [
    "W = reshape(repeat(ww, 500), (10000, 500))"
   ]
  },
  {
   "cell_type": "code",
   "execution_count": null,
   "id": "f3df05a1-660e-45f9-aa3c-8dee4b1e0660",
   "metadata": {},
   "outputs": [],
   "source": [
    "@btime wquantile(XX, W, qq)"
   ]
  }
 ],
 "metadata": {
  "kernelspec": {
   "display_name": "Julia 1.9.4",
   "language": "julia",
   "name": "julia-1.9"
  },
  "language_info": {
   "file_extension": ".jl",
   "mimetype": "application/julia",
   "name": "julia",
   "version": "1.9.4"
  }
 },
 "nbformat": 4,
 "nbformat_minor": 5
}
